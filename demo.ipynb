{
 "cells": [
  {
   "cell_type": "markdown",
   "id": "b622a387-c381-4383-a655-23f55bb56407",
   "metadata": {},
   "source": [
    "# LinearVC demo"
   ]
  },
  {
   "cell_type": "code",
   "execution_count": null,
   "id": "698c44ef-70e6-42aa-b2e7-9bd26e4288f4",
   "metadata": {},
   "outputs": [],
   "source": [
    "import hubconf"
   ]
  }
 ],
 "metadata": {
  "kernelspec": {
   "display_name": "Python 3 (ipykernel)",
   "language": "python",
   "name": "python3"
  },
  "language_info": {
   "codemirror_mode": {
    "name": "ipython",
    "version": 3
   },
   "file_extension": ".py",
   "mimetype": "text/x-python",
   "name": "python",
   "nbconvert_exporter": "python",
   "pygments_lexer": "ipython3",
   "version": "3.12.1"
  }
 },
 "nbformat": 4,
 "nbformat_minor": 5
}
