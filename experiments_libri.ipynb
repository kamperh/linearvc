{
 "cells": [
  {
   "cell_type": "markdown",
   "id": "1f6cda4c-f788-4416-b8b6-3cc1454bb589",
   "metadata": {},
   "source": [
    "# kNN-VC and LinearVC experiments using all data\n",
    "\n",
    "Herman Kamper, 2024"
   ]
  },
  {
   "cell_type": "code",
   "execution_count": 1,
   "id": "41bd31c2-06e9-43ea-b359-a7159626c8ba",
   "metadata": {},
   "outputs": [],
   "source": [
    "from datetime import datetime\n",
    "from numpy import linalg\n",
    "from pathlib import Path\n",
    "from sklearn.linear_model import Lasso, LinearRegression, Ridge\n",
    "from tqdm.notebook import tqdm\n",
    "import celer\n",
    "import IPython.display as display\n",
    "import matplotlib.pyplot as plt\n",
    "import numpy as np\n",
    "import sys\n",
    "import time\n",
    "import torch\n",
    "import torchaudio\n",
    "\n",
    "from utils import fast_cosine_dist"
   ]
  },
  {
   "cell_type": "code",
   "execution_count": 2,
   "id": "fa02a4ca-ff1d-4234-ac1f-a51744d5bd76",
   "metadata": {},
   "outputs": [],
   "source": [
    "device = \"cuda\""
   ]
  },
  {
   "cell_type": "markdown",
   "id": "f8b79249-4cb5-4492-813f-34f938d252c8",
   "metadata": {},
   "source": [
    "## Models"
   ]
  },
  {
   "cell_type": "code",
   "execution_count": 3,
   "id": "9bb5654b-d78e-4bdd-8b0f-a0c724863e8c",
   "metadata": {},
   "outputs": [
    {
     "name": "stderr",
     "output_type": "stream",
     "text": [
      "Using cache found in /home/kamperh/.cache/torch/hub/bshall_knn-vc_master\n",
      "/home/kamperh/miniconda3/envs/myenv/lib/python3.12/site-packages/torch/nn/utils/weight_norm.py:28: UserWarning: torch.nn.utils.weight_norm is deprecated in favor of torch.nn.utils.parametrizations.weight_norm.\n",
      "  warnings.warn(\"torch.nn.utils.weight_norm is deprecated in favor of torch.nn.utils.parametrizations.weight_norm.\")\n"
     ]
    },
    {
     "name": "stdout",
     "output_type": "stream",
     "text": [
      "WavLM-Large loaded with 315,453,120 parameters.\n"
     ]
    }
   ],
   "source": [
    "wavlm = torch.hub.load(\"bshall/knn-vc\", \"wavlm_large\", trust_repo=True, device=device)"
   ]
  },
  {
   "cell_type": "code",
   "execution_count": 4,
   "id": "eaf4da88-f081-458b-b0ac-1b943d161012",
   "metadata": {},
   "outputs": [
    {
     "name": "stderr",
     "output_type": "stream",
     "text": [
      "Using cache found in /home/kamperh/.cache/torch/hub/bshall_knn-vc_master\n"
     ]
    },
    {
     "name": "stdout",
     "output_type": "stream",
     "text": [
      "Removing weight norm...\n",
      "[HiFiGAN] Generator loaded with 16,523,393 parameters.\n"
     ]
    }
   ],
   "source": [
    "hifigan, _ = torch.hub.load(\"bshall/knn-vc\", \"hifigan_wavlm\", trust_repo=True, device=device, prematched=True)"
   ]
  },
  {
   "cell_type": "markdown",
   "id": "d6f1b3c0-f6d5-4f91-84f6-2516422418f8",
   "metadata": {},
   "source": [
    "## LinearVC"
   ]
  },
  {
   "cell_type": "code",
   "execution_count": 3,
   "id": "450af097-56d6-470a-a2b7-cb9c626e58d4",
   "metadata": {},
   "outputs": [],
   "source": [
    "# exp_tag = \"2024-09-22\"\n",
    "# exp_tag = \"2024-10-15\"\n",
    "# exp_tag = \"2024-10-18\"\n",
    "# exp_tag = \"2024-11-12_lasso3.0\"\n",
    "exp_tag = \"2024-11-12_lasso0.3\"\n",
    "\n",
    "# subset = \"test-clean\"\n",
    "subset = \"dev-clean\"\n",
    "eval_csv = Path(f\"data/speaker-sim-{subset}.csv\")\n",
    "feats_dir = Path(f\"/home/kamperh/scratch/{subset}/wavlm\")\n",
    "wav_dir = Path(f\"/home/kamperh/endgame/datasets/librispeech/LibriSpeech/{subset}\")\n",
    "output_dir = Path(f\"/home/kamperh/scratch/linearvc/{subset}/{exp_tag}\")\n",
    "\n",
    "n_frames = 8192  # 15000\n",
    "k_top = 1"
   ]
  },
  {
   "cell_type": "code",
   "execution_count": 4,
   "id": "03e39098-c662-474c-802f-2e878a4d3778",
   "metadata": {},
   "outputs": [
    {
     "name": "stdout",
     "output_type": "stream",
     "text": [
      "Reading from: /home/kamperh/scratch/dev-clean/wavlm\n"
     ]
    },
    {
     "data": {
      "application/vnd.jupyter.widget-view+json": {
       "model_id": "8c05d46a946b4156b8caab4bb854d9fa",
       "version_major": 2,
       "version_minor": 0
      },
      "text/plain": [
       "  0%|          | 0/40 [00:00<?, ?it/s]"
      ]
     },
     "metadata": {},
     "output_type": "display_data"
    },
    {
     "name": "stdout",
     "output_type": "stream",
     "text": [
      "No. speakers: 40\n"
     ]
    }
   ],
   "source": [
    "feats_dict = {}\n",
    "print(\"Reading from:\", feats_dir)\n",
    "for speaker_feats_fn in tqdm(sorted(feats_dir.glob(\"*.npy\"))):\n",
    "    speaker = speaker_feats_fn.stem\n",
    "    # feats_dict[speaker] = np.load(speaker_feats_fn)[:n_frames, :]\n",
    "    feats_dict[speaker] = np.load(speaker_feats_fn)\n",
    "    # feats_dict[speaker] = (\n",
    "    #     torch.from_numpy(np.load(speaker_feats_fn))[:n_frames, :]\n",
    "    #     .float()\n",
    "    #     .to(device)\n",
    "    # )\n",
    "print(\"No. speakers:\", len(feats_dict))"
   ]
  },
  {
   "cell_type": "code",
   "execution_count": 7,
   "id": "cb92fc2f-a3c0-4652-bfcf-5fa14f6fce60",
   "metadata": {},
   "outputs": [
    {
     "data": {
      "application/vnd.jupyter.widget-view+json": {
       "model_id": "5b7904bf913840d18de83a172b7a6ebc",
       "version_major": 2,
       "version_minor": 0
      },
      "text/plain": [
       "  0%|          | 0/40 [00:00<?, ?it/s]"
      ]
     },
     "metadata": {},
     "output_type": "display_data"
    },
    {
     "data": {
      "application/vnd.jupyter.widget-view+json": {
       "model_id": "52fde16633494e7daf7a110a09ecdd6d",
       "version_major": 2,
       "version_minor": 0
      },
      "text/plain": [
       "  0%|          | 0/40 [00:00<?, ?it/s]"
      ]
     },
     "metadata": {},
     "output_type": "display_data"
    },
    {
     "ename": "KeyboardInterrupt",
     "evalue": "",
     "output_type": "error",
     "traceback": [
      "\u001b[0;31m---------------------------------------------------------------------------\u001b[0m",
      "\u001b[0;31mKeyboardInterrupt\u001b[0m                         Traceback (most recent call last)",
      "Cell \u001b[0;32mIn[7], line 22\u001b[0m\n\u001b[1;32m     16\u001b[0m linear_target \u001b[38;5;241m=\u001b[39m target_feats[best\u001b[38;5;241m.\u001b[39mindices]\u001b[38;5;241m.\u001b[39mmean(dim\u001b[38;5;241m=\u001b[39m\u001b[38;5;241m1\u001b[39m)\n\u001b[1;32m     18\u001b[0m \u001b[38;5;66;03m# W, _, _, _ = linalg.lstsq(source_feats.cpu(), linear_target.cpu())\u001b[39;00m\n\u001b[1;32m     19\u001b[0m \n\u001b[1;32m     20\u001b[0m  \u001b[38;5;66;03m# W, _ = linalg.orthogonal_procrustes(src_mat.cpu(), tgt_feats.cpu())\u001b[39;00m\n\u001b[0;32m---> 22\u001b[0m linear \u001b[38;5;241m=\u001b[39m \u001b[43mceler\u001b[49m\u001b[38;5;241;43m.\u001b[39;49m\u001b[43mLasso\u001b[49m\u001b[43m(\u001b[49m\u001b[43malpha\u001b[49m\u001b[38;5;241;43m=\u001b[39;49m\u001b[38;5;241;43m0.3\u001b[39;49m\u001b[43m,\u001b[49m\u001b[43m \u001b[49m\u001b[43mfit_intercept\u001b[49m\u001b[38;5;241;43m=\u001b[39;49m\u001b[38;5;28;43;01mFalse\u001b[39;49;00m\u001b[43m)\u001b[49m\u001b[38;5;241;43m.\u001b[39;49m\u001b[43mfit\u001b[49m\u001b[43m(\u001b[49m\n\u001b[1;32m     23\u001b[0m \u001b[43m\u001b[49m\u001b[38;5;66;43;03m# linear = celer.Lasso(alpha=3.0, fit_intercept=False).fit(\u001b[39;49;00m\n\u001b[1;32m     24\u001b[0m \u001b[43m    \u001b[49m\u001b[43msource_feats\u001b[49m\u001b[38;5;241;43m.\u001b[39;49m\u001b[43msqueeze\u001b[49m\u001b[43m(\u001b[49m\u001b[43m)\u001b[49m\u001b[38;5;241;43m.\u001b[39;49m\u001b[43mcpu\u001b[49m\u001b[43m(\u001b[49m\u001b[43m)\u001b[49m\u001b[43m,\u001b[49m\u001b[43m \u001b[49m\u001b[43mlinear_target\u001b[49m\u001b[38;5;241;43m.\u001b[39;49m\u001b[43mcpu\u001b[49m\u001b[43m(\u001b[49m\u001b[43m)\u001b[49m\n\u001b[1;32m     25\u001b[0m \u001b[43m\u001b[49m\u001b[43m)\u001b[49m\n\u001b[1;32m     26\u001b[0m W \u001b[38;5;241m=\u001b[39m linear\u001b[38;5;241m.\u001b[39mcoef_\u001b[38;5;241m.\u001b[39mT\n\u001b[1;32m     28\u001b[0m \u001b[38;5;66;03m# linear = Ridge(alpha=1e4, fit_intercept=False).fit(\u001b[39;00m\n\u001b[1;32m     29\u001b[0m \u001b[38;5;66;03m#     source_feats.squeeze().cpu(), linear_target.cpu()\u001b[39;00m\n\u001b[1;32m     30\u001b[0m \u001b[38;5;66;03m# )\u001b[39;00m\n\u001b[1;32m     31\u001b[0m \u001b[38;5;66;03m# W = linear.coef_.T\u001b[39;00m\n\u001b[1;32m     32\u001b[0m \n\u001b[1;32m     33\u001b[0m \u001b[38;5;66;03m# W = torch.from_numpy(W).float().to(device)\u001b[39;00m\n",
      "File \u001b[0;32m~/miniconda3/envs/myenv/lib/python3.12/site-packages/sklearn/base.py:1151\u001b[0m, in \u001b[0;36m_fit_context.<locals>.decorator.<locals>.wrapper\u001b[0;34m(estimator, *args, **kwargs)\u001b[0m\n\u001b[1;32m   1144\u001b[0m     estimator\u001b[38;5;241m.\u001b[39m_validate_params()\n\u001b[1;32m   1146\u001b[0m \u001b[38;5;28;01mwith\u001b[39;00m config_context(\n\u001b[1;32m   1147\u001b[0m     skip_parameter_validation\u001b[38;5;241m=\u001b[39m(\n\u001b[1;32m   1148\u001b[0m         prefer_skip_nested_validation \u001b[38;5;129;01mor\u001b[39;00m global_skip_validation\n\u001b[1;32m   1149\u001b[0m     )\n\u001b[1;32m   1150\u001b[0m ):\n\u001b[0;32m-> 1151\u001b[0m     \u001b[38;5;28;01mreturn\u001b[39;00m \u001b[43mfit_method\u001b[49m\u001b[43m(\u001b[49m\u001b[43mestimator\u001b[49m\u001b[43m,\u001b[49m\u001b[43m \u001b[49m\u001b[38;5;241;43m*\u001b[39;49m\u001b[43margs\u001b[49m\u001b[43m,\u001b[49m\u001b[43m \u001b[49m\u001b[38;5;241;43m*\u001b[39;49m\u001b[38;5;241;43m*\u001b[39;49m\u001b[43mkwargs\u001b[49m\u001b[43m)\u001b[49m\n",
      "File \u001b[0;32m~/miniconda3/envs/myenv/lib/python3.12/site-packages/sklearn/linear_model/_coordinate_descent.py:1001\u001b[0m, in \u001b[0;36mElasticNet.fit\u001b[0;34m(self, X, y, sample_weight, check_input)\u001b[0m\n\u001b[1;32m    999\u001b[0m \u001b[38;5;28;01melse\u001b[39;00m:\n\u001b[1;32m   1000\u001b[0m     this_Xy \u001b[38;5;241m=\u001b[39m \u001b[38;5;28;01mNone\u001b[39;00m\n\u001b[0;32m-> 1001\u001b[0m _, this_coef, this_dual_gap, this_iter \u001b[38;5;241m=\u001b[39m \u001b[38;5;28;43mself\u001b[39;49m\u001b[38;5;241;43m.\u001b[39;49m\u001b[43mpath\u001b[49m\u001b[43m(\u001b[49m\n\u001b[1;32m   1002\u001b[0m \u001b[43m    \u001b[49m\u001b[43mX\u001b[49m\u001b[43m,\u001b[49m\n\u001b[1;32m   1003\u001b[0m \u001b[43m    \u001b[49m\u001b[43my\u001b[49m\u001b[43m[\u001b[49m\u001b[43m:\u001b[49m\u001b[43m,\u001b[49m\u001b[43m \u001b[49m\u001b[43mk\u001b[49m\u001b[43m]\u001b[49m\u001b[43m,\u001b[49m\n\u001b[1;32m   1004\u001b[0m \u001b[43m    \u001b[49m\u001b[43ml1_ratio\u001b[49m\u001b[38;5;241;43m=\u001b[39;49m\u001b[38;5;28;43mself\u001b[39;49m\u001b[38;5;241;43m.\u001b[39;49m\u001b[43ml1_ratio\u001b[49m\u001b[43m,\u001b[49m\n\u001b[1;32m   1005\u001b[0m \u001b[43m    \u001b[49m\u001b[43meps\u001b[49m\u001b[38;5;241;43m=\u001b[39;49m\u001b[38;5;28;43;01mNone\u001b[39;49;00m\u001b[43m,\u001b[49m\n\u001b[1;32m   1006\u001b[0m \u001b[43m    \u001b[49m\u001b[43mn_alphas\u001b[49m\u001b[38;5;241;43m=\u001b[39;49m\u001b[38;5;28;43;01mNone\u001b[39;49;00m\u001b[43m,\u001b[49m\n\u001b[1;32m   1007\u001b[0m \u001b[43m    \u001b[49m\u001b[43malphas\u001b[49m\u001b[38;5;241;43m=\u001b[39;49m\u001b[43m[\u001b[49m\u001b[43malpha\u001b[49m\u001b[43m]\u001b[49m\u001b[43m,\u001b[49m\n\u001b[1;32m   1008\u001b[0m \u001b[43m    \u001b[49m\u001b[43mprecompute\u001b[49m\u001b[38;5;241;43m=\u001b[39;49m\u001b[43mprecompute\u001b[49m\u001b[43m,\u001b[49m\n\u001b[1;32m   1009\u001b[0m \u001b[43m    \u001b[49m\u001b[43mXy\u001b[49m\u001b[38;5;241;43m=\u001b[39;49m\u001b[43mthis_Xy\u001b[49m\u001b[43m,\u001b[49m\n\u001b[1;32m   1010\u001b[0m \u001b[43m    \u001b[49m\u001b[43mcopy_X\u001b[49m\u001b[38;5;241;43m=\u001b[39;49m\u001b[38;5;28;43;01mTrue\u001b[39;49;00m\u001b[43m,\u001b[49m\n\u001b[1;32m   1011\u001b[0m \u001b[43m    \u001b[49m\u001b[43mcoef_init\u001b[49m\u001b[38;5;241;43m=\u001b[39;49m\u001b[43mcoef_\u001b[49m\u001b[43m[\u001b[49m\u001b[43mk\u001b[49m\u001b[43m]\u001b[49m\u001b[43m,\u001b[49m\n\u001b[1;32m   1012\u001b[0m \u001b[43m    \u001b[49m\u001b[43mverbose\u001b[49m\u001b[38;5;241;43m=\u001b[39;49m\u001b[38;5;28;43;01mFalse\u001b[39;49;00m\u001b[43m,\u001b[49m\n\u001b[1;32m   1013\u001b[0m \u001b[43m    \u001b[49m\u001b[43mreturn_n_iter\u001b[49m\u001b[38;5;241;43m=\u001b[39;49m\u001b[38;5;28;43;01mTrue\u001b[39;49;00m\u001b[43m,\u001b[49m\n\u001b[1;32m   1014\u001b[0m \u001b[43m    \u001b[49m\u001b[43mpositive\u001b[49m\u001b[38;5;241;43m=\u001b[39;49m\u001b[38;5;28;43mself\u001b[39;49m\u001b[38;5;241;43m.\u001b[39;49m\u001b[43mpositive\u001b[49m\u001b[43m,\u001b[49m\n\u001b[1;32m   1015\u001b[0m \u001b[43m    \u001b[49m\u001b[43mcheck_input\u001b[49m\u001b[38;5;241;43m=\u001b[39;49m\u001b[38;5;28;43;01mFalse\u001b[39;49;00m\u001b[43m,\u001b[49m\n\u001b[1;32m   1016\u001b[0m \u001b[43m    \u001b[49m\u001b[38;5;66;43;03m# from here on **params\u001b[39;49;00m\n\u001b[1;32m   1017\u001b[0m \u001b[43m    \u001b[49m\u001b[43mtol\u001b[49m\u001b[38;5;241;43m=\u001b[39;49m\u001b[38;5;28;43mself\u001b[39;49m\u001b[38;5;241;43m.\u001b[39;49m\u001b[43mtol\u001b[49m\u001b[43m,\u001b[49m\n\u001b[1;32m   1018\u001b[0m \u001b[43m    \u001b[49m\u001b[43mX_offset\u001b[49m\u001b[38;5;241;43m=\u001b[39;49m\u001b[43mX_offset\u001b[49m\u001b[43m,\u001b[49m\n\u001b[1;32m   1019\u001b[0m \u001b[43m    \u001b[49m\u001b[43mX_scale\u001b[49m\u001b[38;5;241;43m=\u001b[39;49m\u001b[43mX_scale\u001b[49m\u001b[43m,\u001b[49m\n\u001b[1;32m   1020\u001b[0m \u001b[43m    \u001b[49m\u001b[43mmax_iter\u001b[49m\u001b[38;5;241;43m=\u001b[39;49m\u001b[38;5;28;43mself\u001b[39;49m\u001b[38;5;241;43m.\u001b[39;49m\u001b[43mmax_iter\u001b[49m\u001b[43m,\u001b[49m\n\u001b[1;32m   1021\u001b[0m \u001b[43m    \u001b[49m\u001b[43mrandom_state\u001b[49m\u001b[38;5;241;43m=\u001b[39;49m\u001b[38;5;28;43mself\u001b[39;49m\u001b[38;5;241;43m.\u001b[39;49m\u001b[43mrandom_state\u001b[49m\u001b[43m,\u001b[49m\n\u001b[1;32m   1022\u001b[0m \u001b[43m    \u001b[49m\u001b[43mselection\u001b[49m\u001b[38;5;241;43m=\u001b[39;49m\u001b[38;5;28;43mself\u001b[39;49m\u001b[38;5;241;43m.\u001b[39;49m\u001b[43mselection\u001b[49m\u001b[43m,\u001b[49m\n\u001b[1;32m   1023\u001b[0m \u001b[43m    \u001b[49m\u001b[43msample_weight\u001b[49m\u001b[38;5;241;43m=\u001b[39;49m\u001b[43msample_weight\u001b[49m\u001b[43m,\u001b[49m\n\u001b[1;32m   1024\u001b[0m \u001b[43m\u001b[49m\u001b[43m)\u001b[49m\n\u001b[1;32m   1025\u001b[0m coef_[k] \u001b[38;5;241m=\u001b[39m this_coef[:, \u001b[38;5;241m0\u001b[39m]\n\u001b[1;32m   1026\u001b[0m dual_gaps_[k] \u001b[38;5;241m=\u001b[39m this_dual_gap[\u001b[38;5;241m0\u001b[39m]\n",
      "File \u001b[0;32m~/miniconda3/envs/myenv/lib/python3.12/site-packages/celer/dropin_sklearn.py:125\u001b[0m, in \u001b[0;36mLasso.path\u001b[0;34m(self, X, y, alphas, coef_init, return_n_iter, **kwargs)\u001b[0m\n\u001b[1;32m    123\u001b[0m \u001b[38;5;28;01mdef\u001b[39;00m \u001b[38;5;21mpath\u001b[39m(\u001b[38;5;28mself\u001b[39m, X, y, alphas, coef_init\u001b[38;5;241m=\u001b[39m\u001b[38;5;28;01mNone\u001b[39;00m, return_n_iter\u001b[38;5;241m=\u001b[39m\u001b[38;5;28;01mTrue\u001b[39;00m, \u001b[38;5;241m*\u001b[39m\u001b[38;5;241m*\u001b[39mkwargs):\n\u001b[1;32m    124\u001b[0m \u001b[38;5;250m    \u001b[39m\u001b[38;5;124;03m\"\"\"Compute Lasso path with Celer.\"\"\"\u001b[39;00m\n\u001b[0;32m--> 125\u001b[0m     results \u001b[38;5;241m=\u001b[39m \u001b[43mceler_path\u001b[49m\u001b[43m(\u001b[49m\n\u001b[1;32m    126\u001b[0m \u001b[43m        \u001b[49m\u001b[43mX\u001b[49m\u001b[43m,\u001b[49m\u001b[43m \u001b[49m\u001b[43my\u001b[49m\u001b[43m,\u001b[49m\u001b[43m \u001b[49m\u001b[38;5;124;43m\"\u001b[39;49m\u001b[38;5;124;43mlasso\u001b[39;49m\u001b[38;5;124;43m\"\u001b[39;49m\u001b[43m,\u001b[49m\u001b[43m \u001b[49m\u001b[43malphas\u001b[49m\u001b[38;5;241;43m=\u001b[39;49m\u001b[43malphas\u001b[49m\u001b[43m,\u001b[49m\u001b[43m \u001b[49m\u001b[43ml1_ratio\u001b[49m\u001b[38;5;241;43m=\u001b[39;49m\u001b[38;5;241;43m1.0\u001b[39;49m\u001b[43m,\u001b[49m\u001b[43m \u001b[49m\u001b[43mcoef_init\u001b[49m\u001b[38;5;241;43m=\u001b[39;49m\u001b[43mcoef_init\u001b[49m\u001b[43m,\u001b[49m\n\u001b[1;32m    127\u001b[0m \u001b[43m        \u001b[49m\u001b[43mmax_iter\u001b[49m\u001b[38;5;241;43m=\u001b[39;49m\u001b[38;5;28;43mself\u001b[39;49m\u001b[38;5;241;43m.\u001b[39;49m\u001b[43mmax_iter\u001b[49m\u001b[43m,\u001b[49m\u001b[43m \u001b[49m\u001b[43mreturn_n_iter\u001b[49m\u001b[38;5;241;43m=\u001b[39;49m\u001b[43mreturn_n_iter\u001b[49m\u001b[43m,\u001b[49m\n\u001b[1;32m    128\u001b[0m \u001b[43m        \u001b[49m\u001b[43mmax_epochs\u001b[49m\u001b[38;5;241;43m=\u001b[39;49m\u001b[38;5;28;43mself\u001b[39;49m\u001b[38;5;241;43m.\u001b[39;49m\u001b[43mmax_epochs\u001b[49m\u001b[43m,\u001b[49m\u001b[43m \u001b[49m\u001b[43mp0\u001b[49m\u001b[38;5;241;43m=\u001b[39;49m\u001b[38;5;28;43mself\u001b[39;49m\u001b[38;5;241;43m.\u001b[39;49m\u001b[43mp0\u001b[49m\u001b[43m,\u001b[49m\u001b[43m \u001b[49m\u001b[43mverbose\u001b[49m\u001b[38;5;241;43m=\u001b[39;49m\u001b[38;5;28;43mself\u001b[39;49m\u001b[38;5;241;43m.\u001b[39;49m\u001b[43mverbose\u001b[49m\u001b[43m,\u001b[49m\n\u001b[1;32m    129\u001b[0m \u001b[43m        \u001b[49m\u001b[43mtol\u001b[49m\u001b[38;5;241;43m=\u001b[39;49m\u001b[38;5;28;43mself\u001b[39;49m\u001b[38;5;241;43m.\u001b[39;49m\u001b[43mtol\u001b[49m\u001b[43m,\u001b[49m\u001b[43m \u001b[49m\u001b[43mprune\u001b[49m\u001b[38;5;241;43m=\u001b[39;49m\u001b[38;5;28;43mself\u001b[39;49m\u001b[38;5;241;43m.\u001b[39;49m\u001b[43mprune\u001b[49m\u001b[43m,\u001b[49m\u001b[43m \u001b[49m\u001b[43mweights\u001b[49m\u001b[38;5;241;43m=\u001b[39;49m\u001b[38;5;28;43mself\u001b[39;49m\u001b[38;5;241;43m.\u001b[39;49m\u001b[43mweights\u001b[49m\u001b[43m,\u001b[49m\n\u001b[1;32m    130\u001b[0m \u001b[43m        \u001b[49m\u001b[43mpositive\u001b[49m\u001b[38;5;241;43m=\u001b[39;49m\u001b[38;5;28;43mself\u001b[39;49m\u001b[38;5;241;43m.\u001b[39;49m\u001b[43mpositive\u001b[49m\u001b[43m,\u001b[49m\u001b[43m \u001b[49m\u001b[43mX_scale\u001b[49m\u001b[38;5;241;43m=\u001b[39;49m\u001b[43mkwargs\u001b[49m\u001b[38;5;241;43m.\u001b[39;49m\u001b[43mget\u001b[49m\u001b[43m(\u001b[49m\u001b[38;5;124;43m'\u001b[39;49m\u001b[38;5;124;43mX_scale\u001b[39;49m\u001b[38;5;124;43m'\u001b[39;49m\u001b[43m,\u001b[49m\u001b[43m \u001b[49m\u001b[38;5;28;43;01mNone\u001b[39;49;00m\u001b[43m)\u001b[49m\u001b[43m,\u001b[49m\n\u001b[1;32m    131\u001b[0m \u001b[43m        \u001b[49m\u001b[43mX_offset\u001b[49m\u001b[38;5;241;43m=\u001b[39;49m\u001b[43mkwargs\u001b[49m\u001b[38;5;241;43m.\u001b[39;49m\u001b[43mget\u001b[49m\u001b[43m(\u001b[49m\u001b[38;5;124;43m'\u001b[39;49m\u001b[38;5;124;43mX_offset\u001b[39;49m\u001b[38;5;124;43m'\u001b[39;49m\u001b[43m,\u001b[49m\u001b[43m \u001b[49m\u001b[38;5;28;43;01mNone\u001b[39;49;00m\u001b[43m)\u001b[49m\u001b[43m)\u001b[49m\n\u001b[1;32m    133\u001b[0m     \u001b[38;5;28;01mreturn\u001b[39;00m results\n",
      "File \u001b[0;32m~/miniconda3/envs/myenv/lib/python3.12/site-packages/celer/homotopy.py:324\u001b[0m, in \u001b[0;36mceler_path\u001b[0;34m(X, y, pb, eps, n_alphas, alphas, l1_ratio, coef_init, max_iter, max_epochs, p0, verbose, tol, prune, weights, groups, return_thetas, use_PN, X_offset, X_scale, return_n_iter, positive)\u001b[0m\n\u001b[1;32m    322\u001b[0m \u001b[38;5;66;03m# TODO handle case of enet\u001b[39;00m\n\u001b[1;32m    323\u001b[0m \u001b[38;5;28;01melif\u001b[39;00m pb \u001b[38;5;241m==\u001b[39m LASSO \u001b[38;5;129;01mor\u001b[39;00m (pb \u001b[38;5;241m==\u001b[39m LOGREG \u001b[38;5;129;01mand\u001b[39;00m \u001b[38;5;129;01mnot\u001b[39;00m use_PN):\n\u001b[0;32m--> 324\u001b[0m     sol \u001b[38;5;241m=\u001b[39m \u001b[43mceler\u001b[49m\u001b[43m(\u001b[49m\n\u001b[1;32m    325\u001b[0m \u001b[43m        \u001b[49m\u001b[43mis_sparse\u001b[49m\u001b[43m,\u001b[49m\u001b[43m \u001b[49m\u001b[43mpb\u001b[49m\u001b[43m,\u001b[49m\n\u001b[1;32m    326\u001b[0m \u001b[43m        \u001b[49m\u001b[43mX_dense\u001b[49m\u001b[43m,\u001b[49m\u001b[43m \u001b[49m\u001b[43mX_data\u001b[49m\u001b[43m,\u001b[49m\u001b[43m \u001b[49m\u001b[43mX_indices\u001b[49m\u001b[43m,\u001b[49m\u001b[43m \u001b[49m\u001b[43mX_indptr\u001b[49m\u001b[43m,\u001b[49m\u001b[43m \u001b[49m\u001b[43mX_sparse_scaling\u001b[49m\u001b[43m,\u001b[49m\u001b[43m \u001b[49m\u001b[43my\u001b[49m\u001b[43m,\u001b[49m\n\u001b[1;32m    327\u001b[0m \u001b[43m        \u001b[49m\u001b[43malpha\u001b[49m\u001b[43m,\u001b[49m\u001b[43m \u001b[49m\u001b[43ml1_ratio\u001b[49m\u001b[43m,\u001b[49m\u001b[43m \u001b[49m\u001b[43mw\u001b[49m\u001b[43m,\u001b[49m\u001b[43m \u001b[49m\u001b[43mXw\u001b[49m\u001b[43m,\u001b[49m\u001b[43m \u001b[49m\u001b[43mtheta\u001b[49m\u001b[43m,\u001b[49m\u001b[43m \u001b[49m\u001b[43mnorms_X_col\u001b[49m\u001b[43m,\u001b[49m\u001b[43m \u001b[49m\u001b[43mweights\u001b[49m\u001b[43m,\u001b[49m\n\u001b[1;32m    328\u001b[0m \u001b[43m        \u001b[49m\u001b[43mmax_iter\u001b[49m\u001b[38;5;241;43m=\u001b[39;49m\u001b[43mmax_iter\u001b[49m\u001b[43m,\u001b[49m\u001b[43m \u001b[49m\u001b[43mmax_epochs\u001b[49m\u001b[38;5;241;43m=\u001b[39;49m\u001b[43mmax_epochs\u001b[49m\u001b[43m,\u001b[49m\n\u001b[1;32m    329\u001b[0m \u001b[43m        \u001b[49m\u001b[43mp0\u001b[49m\u001b[38;5;241;43m=\u001b[39;49m\u001b[43mp0\u001b[49m\u001b[43m,\u001b[49m\u001b[43m \u001b[49m\u001b[43mverbose\u001b[49m\u001b[38;5;241;43m=\u001b[39;49m\u001b[43mverbose\u001b[49m\u001b[43m,\u001b[49m\u001b[43m \u001b[49m\u001b[43muse_accel\u001b[49m\u001b[38;5;241;43m=\u001b[39;49m\u001b[38;5;241;43m1\u001b[39;49m\u001b[43m,\u001b[49m\u001b[43m \u001b[49m\u001b[43mtol\u001b[49m\u001b[38;5;241;43m=\u001b[39;49m\u001b[43mtol\u001b[49m\u001b[43m,\u001b[49m\u001b[43m \u001b[49m\u001b[43mprune\u001b[49m\u001b[38;5;241;43m=\u001b[39;49m\u001b[43mprune\u001b[49m\u001b[43m,\u001b[49m\n\u001b[1;32m    330\u001b[0m \u001b[43m        \u001b[49m\u001b[43mpositive\u001b[49m\u001b[38;5;241;43m=\u001b[39;49m\u001b[43mpositive\u001b[49m\u001b[43m)\u001b[49m\n\u001b[1;32m    331\u001b[0m \u001b[38;5;28;01melse\u001b[39;00m:  \u001b[38;5;66;03m# pb == LOGREG and use_PN\u001b[39;00m\n\u001b[1;32m    332\u001b[0m     sol \u001b[38;5;241m=\u001b[39m newton_celer(\n\u001b[1;32m    333\u001b[0m         is_sparse, X_dense, X_data, X_indices, X_indptr, y, alpha, w,\n\u001b[1;32m    334\u001b[0m         max_iter, tol\u001b[38;5;241m=\u001b[39mtol, p0\u001b[38;5;241m=\u001b[39mp0, verbose\u001b[38;5;241m=\u001b[39mverbose, prune\u001b[38;5;241m=\u001b[39mprune)\n",
      "File \u001b[0;32m~/miniconda3/envs/myenv/lib/python3.12/site-packages/celer/lasso_fast.pyx:212\u001b[0m, in \u001b[0;36mceler.lasso_fast.celer\u001b[0;34m()\u001b[0m\n",
      "File \u001b[0;32m~/miniconda3/envs/myenv/lib/python3.12/site-packages/numpy/core/fromnumeric.py:775\u001b[0m, in \u001b[0;36m_argpartition_dispatcher\u001b[0;34m(a, kth, axis, kind, order)\u001b[0m\n\u001b[1;32m    771\u001b[0m     a\u001b[38;5;241m.\u001b[39mpartition(kth, axis\u001b[38;5;241m=\u001b[39maxis, kind\u001b[38;5;241m=\u001b[39mkind, order\u001b[38;5;241m=\u001b[39morder)\n\u001b[1;32m    772\u001b[0m     \u001b[38;5;28;01mreturn\u001b[39;00m a\n\u001b[0;32m--> 775\u001b[0m \u001b[38;5;28;01mdef\u001b[39;00m \u001b[38;5;21m_argpartition_dispatcher\u001b[39m(a, kth, axis\u001b[38;5;241m=\u001b[39m\u001b[38;5;28;01mNone\u001b[39;00m, kind\u001b[38;5;241m=\u001b[39m\u001b[38;5;28;01mNone\u001b[39;00m, order\u001b[38;5;241m=\u001b[39m\u001b[38;5;28;01mNone\u001b[39;00m):\n\u001b[1;32m    776\u001b[0m     \u001b[38;5;28;01mreturn\u001b[39;00m (a,)\n\u001b[1;32m    779\u001b[0m \u001b[38;5;129m@array_function_dispatch\u001b[39m(_argpartition_dispatcher)\n\u001b[1;32m    780\u001b[0m \u001b[38;5;28;01mdef\u001b[39;00m \u001b[38;5;21margpartition\u001b[39m(a, kth, axis\u001b[38;5;241m=\u001b[39m\u001b[38;5;241m-\u001b[39m\u001b[38;5;241m1\u001b[39m, kind\u001b[38;5;241m=\u001b[39m\u001b[38;5;124m'\u001b[39m\u001b[38;5;124mintroselect\u001b[39m\u001b[38;5;124m'\u001b[39m, order\u001b[38;5;241m=\u001b[39m\u001b[38;5;28;01mNone\u001b[39;00m):\n",
      "\u001b[0;31mKeyboardInterrupt\u001b[0m: "
     ]
    }
   ],
   "source": [
    "# Projection matrices\n",
    "projmats = {}\n",
    "for source in tqdm(feats_dict):\n",
    "    for target in tqdm(feats_dict, leave=False):\n",
    "        if source == target:\n",
    "            continue\n",
    "\n",
    "        source_feats = feats_dict[source][:n_frames, :]\n",
    "        # target_feats = feats_dict[target][:n_frames, :]\n",
    "        target_feats = feats_dict[target]\n",
    "        source_feats = torch.from_numpy(source_feats).float().to(device)\n",
    "        target_feats = torch.from_numpy(target_feats).float().to(device)\n",
    "\n",
    "        dists = fast_cosine_dist(source_feats, target_feats, device=device)\n",
    "        best = dists.topk(k=k_top, largest=False, dim=-1)        \n",
    "        linear_target = target_feats[best.indices].mean(dim=1)\n",
    "\n",
    "        # W, _, _, _ = linalg.lstsq(source_feats.cpu(), linear_target.cpu())\n",
    "\n",
    "         # W, _ = linalg.orthogonal_procrustes(src_mat.cpu(), tgt_feats.cpu())\n",
    "\n",
    "        linear = celer.Lasso(alpha=0.3, fit_intercept=False).fit(\n",
    "        # linear = celer.Lasso(alpha=3.0, fit_intercept=False).fit(\n",
    "            source_feats.squeeze().cpu(), linear_target.cpu()\n",
    "        )\n",
    "        W = linear.coef_.T\n",
    "        \n",
    "        # linear = Ridge(alpha=1e4, fit_intercept=False).fit(\n",
    "        #     source_feats.squeeze().cpu(), linear_target.cpu()\n",
    "        # )\n",
    "        # W = linear.coef_.T\n",
    "\n",
    "        # W = torch.from_numpy(W).float().to(device)\n",
    "        projmats[f\"{source}-{target}\"] = W\n",
    "        # projmats[f\"{source}-{target}\"] = np.float16(W)\n",
    "\n",
    "        # assert False"
   ]
  },
  {
   "cell_type": "code",
   "execution_count": 5,
   "id": "a8c6c94a-de80-4096-b118-5f4e74453a2c",
   "metadata": {},
   "outputs": [
    {
     "name": "stdout",
     "output_type": "stream",
     "text": [
      "Reading: /home/kamperh/scratch/linearvc/dev-clean/2024-11-12_lasso3.0/projmats_8192.npz\n"
     ]
    }
   ],
   "source": [
    "output_dir.mkdir(parents=True, exist_ok=True)\n",
    "npz_fn = output_dir / f\"projmats_{n_frames}.npz\"\n",
    "\n",
    "print(\"Writing:\", npz_fn)\n",
    "np.savez_compressed(npz_fn, **projmats)\n",
    "\n",
    "print(\"Reading:\", npz_fn)\n",
    "projmats = np.load(npz_fn)"
   ]
  },
  {
   "cell_type": "code",
   "execution_count": 9,
   "id": "fecc0cd7-5769-43da-a7df-8a87ed0b00cf",
   "metadata": {},
   "outputs": [],
   "source": [
    "# sizes = []\n",
    "# for key in tqdm(projmats):\n",
    "#     np.save(f\"/home/kamperh/temp/{key}.npy\", projmats[key])\n",
    "#     sizes.append(Path(f\"/home/kamperh/temp/{key}.npy\").stat().st_size)\n",
    "# print(f\"Average file size: {np.mean(sizes)/1024/1024:.2f}Mb\")\n",
    "\n",
    "# # Temp\n",
    "# W = projmats[\"1089-1188\"]\n",
    "# W_source_to_target = (\n",
    "#     torch.from_numpy(W).float().to(device)\n",
    "# )     "
   ]
  },
  {
   "cell_type": "code",
   "execution_count": 9,
   "id": "b6f603dd-4b25-48a3-9a09-5f204c4b2abf",
   "metadata": {},
   "outputs": [
    {
     "name": "stdout",
     "output_type": "stream",
     "text": [
      "Writing to: /home/kamperh/scratch/linearvc/dev-clean/2024-11-12\n"
     ]
    },
    {
     "data": {
      "application/vnd.jupyter.widget-view+json": {
       "model_id": "8906c4f5784e4627a5add87d19d0a1af",
       "version_major": 2,
       "version_minor": 0
      },
      "text/plain": [
       "  0%|          | 0/15601 [00:00<?, ?it/s]"
      ]
     },
     "metadata": {},
     "output_type": "display_data"
    },
    {
     "name": "stderr",
     "output_type": "stream",
     "text": [
      "/home/kamperh/miniconda3/envs/myenv/lib/python3.12/site-packages/torch/nn/modules/conv.py:306: UserWarning: Applied workaround for CuDNN issue, install nvrtc.so (Triggered internally at /opt/conda/conda-bld/pytorch_1704987296916/work/aten/src/ATen/native/cudnn/Conv_v8.cpp:80.)\n",
      "  return F.conv1d(input, weight, bias, self.stride,\n"
     ]
    },
    {
     "name": "stdout",
     "output_type": "stream",
     "text": [
      "Time: 11.70 minutes\n"
     ]
    }
   ],
   "source": [
    "output_dir.mkdir(parents=True, exist_ok=True)\n",
    "print(\"Writing to:\", output_dir)\n",
    "start_time = time.time()\n",
    "with open(eval_csv) as f:\n",
    "    for line in tqdm(f.readlines()):\n",
    "        line = line.strip()\n",
    "        if line[-1] == \"0\":\n",
    "            (source, target, source_key, _, _) = line.split(\",\")\n",
    "            # (source, target, source_key, _, _) = line.split(\",\")  # VCTK\n",
    "\n",
    "            source_key_split = source_key.split(\"-\")\n",
    "            source_wav_fn = (\n",
    "                wav_dir\n",
    "                / source_key_split[0]\n",
    "                / source_key_split[1]\n",
    "                / source_key.split(\"/\")[0]\n",
    "            ).with_suffix(\".flac\")\n",
    "            # # VCTK\n",
    "            # source_wav_fn = (\n",
    "            #     wav_dir / source / Path(source_key).stem\n",
    "            # ).with_suffix(\".wav\")\n",
    "           \n",
    "            # Features\n",
    "            source_wav, _ = torchaudio.load(source_wav_fn)\n",
    "            source_wav = source_wav.to(device)\n",
    "            with torch.inference_mode():\n",
    "                source_feats, _ = wavlm.extract_features(\n",
    "                    source_wav, output_layer=6\n",
    "                )\n",
    "            \n",
    "            # # Matching\n",
    "            # target_feats = feats_dict[target]\n",
    "            # target_feats = torch.from_numpy(target_feats).float().to(device)\n",
    "            # dists = fast_cosine_dist(\n",
    "            #     source_feats.squeeze(), target_feats, device=device\n",
    "            # )            \n",
    "            # best = dists.topk(k=k_top, largest=False, dim=-1)        \n",
    "            # linear_target = target_feats[best.indices].mean(dim=1)\n",
    "            # W_source_to_target, _, _, _ = linalg.lstsq(\n",
    "            #     source_feats.squeeze().cpu(), linear_target.cpu()\n",
    "            # )\n",
    "            # # linear = celer.Lasso(alpha=0.3, fit_intercept=False).fit(\n",
    "            # #     source_feats.squeeze().cpu(), linear_target.cpu()\n",
    "            # # )\n",
    "            # # W_source_to_target = linear.coef_.T\n",
    "                       \n",
    "            W_source_to_target = projmats[f\"{source}-{target}\"]\n",
    "            W_source_to_target = (\n",
    "                torch.from_numpy(W_source_to_target).float().to(device)\n",
    "            )\n",
    "\n",
    "            source_to_target_feats = source_feats @ W_source_to_target\n",
    "\n",
    "            with torch.inference_mode():\n",
    "                wav_hat = hifigan(source_to_target_feats).squeeze(0)            \n",
    "\n",
    "            cur_output_dir = Path(output_dir) / source_key.split(\"/\")[0]\n",
    "            cur_output_dir.mkdir(parents=True, exist_ok=True)\n",
    "            output_fn = (cur_output_dir / source_key.split(\"/\")[1]).with_suffix(\n",
    "                \".wav\"\n",
    "            )\n",
    "            torchaudio.save(output_fn, wav_hat.squeeze().cpu()[None], 16000)\n",
    "\n",
    "            # print(output_fn)\n",
    "            # assert False\n",
    "\n",
    "end_time = time.time()\n",
    "print(f\"Time: {(end_time - start_time)/60:.2f} minutes\")"
   ]
  },
  {
   "cell_type": "code",
   "execution_count": 11,
   "id": "763e8d9c-dc9d-41bf-9d01-db336725d210",
   "metadata": {},
   "outputs": [
    {
     "name": "stdout",
     "output_type": "stream",
     "text": [
      "Run:\n",
      "./speaker_similarity.py --format librispeech data/speaker-sim-dev-clean.csv /home/kamperh/scratch/linearvc/dev-clean/2024-11-12 /home/kamperh/endgame/datasets/librispeech/LibriSpeech/dev-clean\n",
      "./intelligibility.py --format librispeech /home/kamperh/scratch/linearvc/dev-clean/2024-11-12 /home/kamperh/endgame/datasets/librispeech/LibriSpeech/dev-clean\n"
     ]
    }
   ],
   "source": [
    "class Arguments: pass\n",
    "args = Arguments()\n",
    "args.format = \"librispeech\"\n",
    "args.eval_csv = eval_csv\n",
    "args.converted_dir = output_dir\n",
    "args.groundtruth_dir = wav_dir\n",
    "\n",
    "print(\"Run:\")\n",
    "print(\n",
    "    f\"./speaker_similarity.py --format {args.format}\"\n",
    "    f\" {args.eval_csv} {args.converted_dir} {args.groundtruth_dir}\"\n",
    ")\n",
    "print(\n",
    "    f\"./intelligibility.py --format {args.format} {args.converted_dir}\"\n",
    "    f\" {args.groundtruth_dir}\"\n",
    "    # f\" /home/kamperh/endgame/datasets/VCTK-Corpus/txt/\"\n",
    ")\n",
    "\n",
    "# speaker_similarity(args)"
   ]
  },
  {
   "cell_type": "markdown",
   "id": "c0b1c0ad-7ece-4aa9-af1a-07c2ed735f73",
   "metadata": {},
   "source": [
    "Results:\n",
    "\n",
    "               eer\n",
    "    mean  0.337051\n",
    "    std   0.097225\n",
    "\n",
    "    WER: 4.93% +- 0.06%\n",
    "    CER: 2.55% +- 0.03%"
   ]
  },
  {
   "cell_type": "markdown",
   "id": "e109bf3d-dd80-48ec-80ff-d678c7b3aff3",
   "metadata": {},
   "source": [
    "## kNN-VC"
   ]
  },
  {
   "cell_type": "code",
   "execution_count": 13,
   "id": "d67923bc-53a3-47fe-b59d-dac4d333e25c",
   "metadata": {},
   "outputs": [],
   "source": [
    "# exp_tag = \"2024-09-17\"\n",
    "exp_tag = \"2024-10-15\"\n",
    "subset = \"test-clean\"\n",
    "eval_csv = Path(f\"data/speaker-sim-{subset}.csv\")\n",
    "# eval_csv = Path(\"data/speakersim_vctk_english.csv\")\n",
    "feats_dir = Path(f\"/home/kamperh/scratch/{subset}/wavlm\")\n",
    "wav_dir = Path(f\"/home/kamperh/endgame/datasets/librispeech/LibriSpeech/{subset}\")\n",
    "output_dir = Path(f\"/home/kamperh/scratch/knnvc/{subset}/{exp_tag}\")\n",
    "\n",
    "n_frames = None  # 15000\n",
    "k_top = 4"
   ]
  },
  {
   "cell_type": "code",
   "execution_count": 14,
   "id": "50753d23-914d-4a75-b630-610dd05aba43",
   "metadata": {},
   "outputs": [
    {
     "name": "stdout",
     "output_type": "stream",
     "text": [
      "Reading from: /home/kamperh/scratch/test-clean/wavlm\n"
     ]
    },
    {
     "data": {
      "application/vnd.jupyter.widget-view+json": {
       "model_id": "f478c4448fc84a18a0ea932a46becfc3",
       "version_major": 2,
       "version_minor": 0
      },
      "text/plain": [
       "  0%|          | 0/40 [00:00<?, ?it/s]"
      ]
     },
     "metadata": {},
     "output_type": "display_data"
    },
    {
     "name": "stdout",
     "output_type": "stream",
     "text": [
      "No. speakers: 40\n",
      "Average file size: 47.41Mb\n"
     ]
    }
   ],
   "source": [
    "feats_dict = {}\n",
    "print(\"Reading from:\", feats_dir)\n",
    "sizes = []\n",
    "for speaker_feats_fn in tqdm(sorted(feats_dir.glob(\"*.npy\"))):\n",
    "    speaker = speaker_feats_fn.stem\n",
    "    feats_dict[speaker] = (\n",
    "        torch.from_numpy(np.load(speaker_feats_fn))[:n_frames, :]\n",
    "        .float()\n",
    "        .to(device)\n",
    "    )\n",
    "    \n",
    "    sizes.append(speaker_feats_fn.stat().st_size)\n",
    "print(\"No. speakers:\", len(feats_dict))\n",
    "print(f\"Average file size: {np.mean(sizes)/1024/1024:.2f}Mb\")"
   ]
  },
  {
   "cell_type": "code",
   "execution_count": 15,
   "id": "5a51fd7d-f3c9-40db-9339-1492829d2e75",
   "metadata": {},
   "outputs": [
    {
     "name": "stdout",
     "output_type": "stream",
     "text": [
      "Writing to: /home/kamperh/scratch/knnvc/test-clean/2024-10-15\n"
     ]
    },
    {
     "data": {
      "application/vnd.jupyter.widget-view+json": {
       "model_id": "8fdd80aece1a4ecba3da66e35529efaf",
       "version_major": 2,
       "version_minor": 0
      },
      "text/plain": [
       "  0%|          | 0/15601 [00:00<?, ?it/s]"
      ]
     },
     "metadata": {},
     "output_type": "display_data"
    },
    {
     "name": "stdout",
     "output_type": "stream",
     "text": [
      "Time: 13.32 minutes\n"
     ]
    }
   ],
   "source": [
    "output_dir.mkdir(parents=True, exist_ok=True)\n",
    "print(\"Writing to:\", output_dir)\n",
    "start_time = time.time()\n",
    "with open(eval_csv) as f:\n",
    "    for line in tqdm(f.readlines()):\n",
    "        line = line.strip()\n",
    "        if line[-1] == \"0\":\n",
    "            (source, target, source_key, _, _) = line.split(\",\")\n",
    "            # (source, target, source_key, _, _) = line.split(\",\")  # VCTK\n",
    "\n",
    "            # print(f\"Time: {(time.time() - start_time):.4f} seconds\")\n",
    "            # start_time = time.time()\n",
    "            \n",
    "            source_key_split = source_key.split(\"-\")\n",
    "            source_wav_fn = (\n",
    "                wav_dir\n",
    "                / source_key_split[0]\n",
    "                / source_key_split[1]\n",
    "                / source_key.split(\"/\")[0]\n",
    "            ).with_suffix(\".flac\")\n",
    "            # # VCTK\n",
    "            # source_wav_fn = (\n",
    "            #     wav_dir / source / Path(source_key).stem\n",
    "            # ).with_suffix(\".wav\")\n",
    "            \n",
    "            # Features\n",
    "            source_wav, _ = torchaudio.load(source_wav_fn)\n",
    "            source_wav = source_wav.to(device)\n",
    "            with torch.inference_mode():\n",
    "                source_feats, _ = wavlm.extract_features(\n",
    "                    source_wav, output_layer=6\n",
    "                )\n",
    "            target_feats = feats_dict[target]\n",
    "\n",
    "            # Matching\n",
    "            dists = fast_cosine_dist(\n",
    "                source_feats.squeeze(), target_feats, device=device\n",
    "            )\n",
    "            best = dists.topk(k=k_top, largest=False, dim=-1)\n",
    "            source_to_target_feats = target_feats[best.indices].mean(dim=1)[None]\n",
    "\n",
    "            with torch.inference_mode():\n",
    "                wav_hat = hifigan(source_to_target_feats).squeeze(0)            \n",
    "\n",
    "            cur_output_dir = Path(output_dir) / source_key.split(\"/\")[0]\n",
    "            cur_output_dir.mkdir(parents=True, exist_ok=True)\n",
    "            output_fn = (cur_output_dir / source_key.split(\"/\")[1]).with_suffix(\n",
    "                \".wav\"\n",
    "            )\n",
    "            torchaudio.save(output_fn, wav_hat.squeeze().cpu()[None], 16000)\n",
    "\n",
    "            # print(output_fn)\n",
    "            # assert False\n",
    "\n",
    "end_time = time.time()\n",
    "print(f\"Time: {(end_time - start_time)/60:.2f} minutes\")"
   ]
  },
  {
   "cell_type": "code",
   "execution_count": 16,
   "id": "682d693d-982d-4b83-9703-a0701af9acbd",
   "metadata": {},
   "outputs": [
    {
     "name": "stdout",
     "output_type": "stream",
     "text": [
      "Run:\n",
      "./speaker_similarity.py --format librispeech data/speaker-sim-test-clean.csv /home/kamperh/scratch/knnvc/test-clean/2024-10-15 /home/kamperh/endgame/datasets/librispeech/LibriSpeech/test-clean\n",
      "./intelligibility.py --format librispeech /home/kamperh/scratch/knnvc/test-clean/2024-10-15 /home/kamperh/endgame/datasets/librispeech/LibriSpeech/test-clean\n"
     ]
    }
   ],
   "source": [
    "class Arguments: pass\n",
    "args = Arguments()\n",
    "args.format = \"librispeech\"\n",
    "args.eval_csv = eval_csv\n",
    "args.converted_dir = output_dir\n",
    "args.groundtruth_dir = wav_dir\n",
    "\n",
    "print(\"Run:\")\n",
    "print(\n",
    "    f\"./speaker_similarity.py --format {args.format}\"\n",
    "    f\" {args.eval_csv} {args.converted_dir} {args.groundtruth_dir}\"\n",
    ")\n",
    "print(\n",
    "    f\"./intelligibility.py --format {args.format} {args.converted_dir}\"\n",
    "    f\" {args.groundtruth_dir}\"    \n",
    "    # f\" /home/kamperh/endgame/datasets/VCTK-Corpus/txt/\"   \n",
    ")\n",
    "\n",
    "# speaker_similarity(args)"
   ]
  },
  {
   "cell_type": "markdown",
   "id": "57c33619-b9dc-46c7-9722-b414cc1e080f",
   "metadata": {},
   "source": [
    "Results:\n",
    "\n",
    "               eer\n",
    "    mean  0.389744\n",
    "    std   0.094324\n",
    "\n",
    "    WER: 5.57% +- 0.07%\n",
    "    CER: 2.87% +- 0.04%"
   ]
  },
  {
   "cell_type": "markdown",
   "id": "d828c24d-5d9d-4b0a-a0a8-69baf549c190",
   "metadata": {},
   "source": [
    "## Development"
   ]
  },
  {
   "cell_type": "markdown",
   "id": "edf59ab3-9bd1-4a77-9f2e-2a82391c1e96",
   "metadata": {},
   "source": [
    "### Saving projection matrices"
   ]
  },
  {
   "cell_type": "code",
   "execution_count": 5,
   "id": "0cf4bdee-56dd-48d6-ba3e-18c04828fa3e",
   "metadata": {},
   "outputs": [],
   "source": [
    "projmat_dir = output_dir / \"projmats\"\n",
    "projmat_dir.mkdir(exist_ok=True, parents=True)"
   ]
  },
  {
   "cell_type": "code",
   "execution_count": 6,
   "id": "8f5a1f56-b8f5-4d9b-8d89-93dc6fbcdeef",
   "metadata": {},
   "outputs": [
    {
     "data": {
      "application/vnd.jupyter.widget-view+json": {
       "model_id": "61dbe8a07ea54405a37e4750bbd4797d",
       "version_major": 2,
       "version_minor": 0
      },
      "text/plain": [
       "  0%|          | 0/40 [00:00<?, ?it/s]"
      ]
     },
     "metadata": {},
     "output_type": "display_data"
    },
    {
     "data": {
      "application/vnd.jupyter.widget-view+json": {
       "model_id": "93d6f106e19948cab579de32d23430b7",
       "version_major": 2,
       "version_minor": 0
      },
      "text/plain": [
       "  0%|          | 0/40 [00:00<?, ?it/s]"
      ]
     },
     "metadata": {},
     "output_type": "display_data"
    },
    {
     "ename": "KeyboardInterrupt",
     "evalue": "",
     "output_type": "error",
     "traceback": [
      "\u001b[0;31m---------------------------------------------------------------------------\u001b[0m",
      "\u001b[0;31mKeyboardInterrupt\u001b[0m                         Traceback (most recent call last)",
      "Cell \u001b[0;32mIn[6], line 25\u001b[0m\n\u001b[1;32m     19\u001b[0m linear_target \u001b[38;5;241m=\u001b[39m target_feats[best\u001b[38;5;241m.\u001b[39mindices]\u001b[38;5;241m.\u001b[39mmean(dim\u001b[38;5;241m=\u001b[39m\u001b[38;5;241m1\u001b[39m)\n\u001b[1;32m     21\u001b[0m \u001b[38;5;66;03m# W, _, _, _ = linalg.lstsq(source_feats.cpu(), linear_target.cpu())\u001b[39;00m\n\u001b[1;32m     22\u001b[0m \n\u001b[1;32m     23\u001b[0m  \u001b[38;5;66;03m# W, _ = linalg.orthogonal_procrustes(src_mat.cpu(), tgt_feats.cpu())\u001b[39;00m\n\u001b[0;32m---> 25\u001b[0m linear \u001b[38;5;241m=\u001b[39m \u001b[43mceler\u001b[49m\u001b[38;5;241;43m.\u001b[39;49m\u001b[43mLasso\u001b[49m\u001b[43m(\u001b[49m\u001b[43malpha\u001b[49m\u001b[38;5;241;43m=\u001b[39;49m\u001b[38;5;241;43m0.3\u001b[39;49m\u001b[43m,\u001b[49m\u001b[43m \u001b[49m\u001b[43mfit_intercept\u001b[49m\u001b[38;5;241;43m=\u001b[39;49m\u001b[38;5;28;43;01mFalse\u001b[39;49;00m\u001b[43m)\u001b[49m\u001b[38;5;241;43m.\u001b[39;49m\u001b[43mfit\u001b[49m\u001b[43m(\u001b[49m\n\u001b[1;32m     26\u001b[0m \u001b[43m\u001b[49m\u001b[38;5;66;43;03m# linear = celer.Lasso(alpha=3.0, fit_intercept=False).fit(\u001b[39;49;00m\n\u001b[1;32m     27\u001b[0m \u001b[43m    \u001b[49m\u001b[43msource_feats\u001b[49m\u001b[38;5;241;43m.\u001b[39;49m\u001b[43msqueeze\u001b[49m\u001b[43m(\u001b[49m\u001b[43m)\u001b[49m\u001b[38;5;241;43m.\u001b[39;49m\u001b[43mcpu\u001b[49m\u001b[43m(\u001b[49m\u001b[43m)\u001b[49m\u001b[43m,\u001b[49m\u001b[43m \u001b[49m\u001b[43mlinear_target\u001b[49m\u001b[38;5;241;43m.\u001b[39;49m\u001b[43mcpu\u001b[49m\u001b[43m(\u001b[49m\u001b[43m)\u001b[49m\n\u001b[1;32m     28\u001b[0m \u001b[43m\u001b[49m\u001b[43m)\u001b[49m\n\u001b[1;32m     29\u001b[0m W \u001b[38;5;241m=\u001b[39m linear\u001b[38;5;241m.\u001b[39mcoef_\u001b[38;5;241m.\u001b[39mT\n\u001b[1;32m     31\u001b[0m \u001b[38;5;66;03m# linear = Ridge(alpha=1e4, fit_intercept=False).fit(\u001b[39;00m\n\u001b[1;32m     32\u001b[0m \u001b[38;5;66;03m#     source_feats.squeeze().cpu(), linear_target.cpu()\u001b[39;00m\n\u001b[1;32m     33\u001b[0m \u001b[38;5;66;03m# )\u001b[39;00m\n\u001b[0;32m   (...)\u001b[0m\n\u001b[1;32m     37\u001b[0m \u001b[38;5;66;03m# projmats[f\"{source}-{target}\"] = W\u001b[39;00m\n\u001b[1;32m     38\u001b[0m \u001b[38;5;66;03m# projmats[f\"{source}-{target}\"] = np.float16(W)\u001b[39;00m\n",
      "File \u001b[0;32m~/miniconda3/envs/myenv/lib/python3.12/site-packages/sklearn/base.py:1151\u001b[0m, in \u001b[0;36m_fit_context.<locals>.decorator.<locals>.wrapper\u001b[0;34m(estimator, *args, **kwargs)\u001b[0m\n\u001b[1;32m   1144\u001b[0m     estimator\u001b[38;5;241m.\u001b[39m_validate_params()\n\u001b[1;32m   1146\u001b[0m \u001b[38;5;28;01mwith\u001b[39;00m config_context(\n\u001b[1;32m   1147\u001b[0m     skip_parameter_validation\u001b[38;5;241m=\u001b[39m(\n\u001b[1;32m   1148\u001b[0m         prefer_skip_nested_validation \u001b[38;5;129;01mor\u001b[39;00m global_skip_validation\n\u001b[1;32m   1149\u001b[0m     )\n\u001b[1;32m   1150\u001b[0m ):\n\u001b[0;32m-> 1151\u001b[0m     \u001b[38;5;28;01mreturn\u001b[39;00m \u001b[43mfit_method\u001b[49m\u001b[43m(\u001b[49m\u001b[43mestimator\u001b[49m\u001b[43m,\u001b[49m\u001b[43m \u001b[49m\u001b[38;5;241;43m*\u001b[39;49m\u001b[43margs\u001b[49m\u001b[43m,\u001b[49m\u001b[43m \u001b[49m\u001b[38;5;241;43m*\u001b[39;49m\u001b[38;5;241;43m*\u001b[39;49m\u001b[43mkwargs\u001b[49m\u001b[43m)\u001b[49m\n",
      "File \u001b[0;32m~/miniconda3/envs/myenv/lib/python3.12/site-packages/sklearn/linear_model/_coordinate_descent.py:1001\u001b[0m, in \u001b[0;36mElasticNet.fit\u001b[0;34m(self, X, y, sample_weight, check_input)\u001b[0m\n\u001b[1;32m    999\u001b[0m \u001b[38;5;28;01melse\u001b[39;00m:\n\u001b[1;32m   1000\u001b[0m     this_Xy \u001b[38;5;241m=\u001b[39m \u001b[38;5;28;01mNone\u001b[39;00m\n\u001b[0;32m-> 1001\u001b[0m _, this_coef, this_dual_gap, this_iter \u001b[38;5;241m=\u001b[39m \u001b[38;5;28;43mself\u001b[39;49m\u001b[38;5;241;43m.\u001b[39;49m\u001b[43mpath\u001b[49m\u001b[43m(\u001b[49m\n\u001b[1;32m   1002\u001b[0m \u001b[43m    \u001b[49m\u001b[43mX\u001b[49m\u001b[43m,\u001b[49m\n\u001b[1;32m   1003\u001b[0m \u001b[43m    \u001b[49m\u001b[43my\u001b[49m\u001b[43m[\u001b[49m\u001b[43m:\u001b[49m\u001b[43m,\u001b[49m\u001b[43m \u001b[49m\u001b[43mk\u001b[49m\u001b[43m]\u001b[49m\u001b[43m,\u001b[49m\n\u001b[1;32m   1004\u001b[0m \u001b[43m    \u001b[49m\u001b[43ml1_ratio\u001b[49m\u001b[38;5;241;43m=\u001b[39;49m\u001b[38;5;28;43mself\u001b[39;49m\u001b[38;5;241;43m.\u001b[39;49m\u001b[43ml1_ratio\u001b[49m\u001b[43m,\u001b[49m\n\u001b[1;32m   1005\u001b[0m \u001b[43m    \u001b[49m\u001b[43meps\u001b[49m\u001b[38;5;241;43m=\u001b[39;49m\u001b[38;5;28;43;01mNone\u001b[39;49;00m\u001b[43m,\u001b[49m\n\u001b[1;32m   1006\u001b[0m \u001b[43m    \u001b[49m\u001b[43mn_alphas\u001b[49m\u001b[38;5;241;43m=\u001b[39;49m\u001b[38;5;28;43;01mNone\u001b[39;49;00m\u001b[43m,\u001b[49m\n\u001b[1;32m   1007\u001b[0m \u001b[43m    \u001b[49m\u001b[43malphas\u001b[49m\u001b[38;5;241;43m=\u001b[39;49m\u001b[43m[\u001b[49m\u001b[43malpha\u001b[49m\u001b[43m]\u001b[49m\u001b[43m,\u001b[49m\n\u001b[1;32m   1008\u001b[0m \u001b[43m    \u001b[49m\u001b[43mprecompute\u001b[49m\u001b[38;5;241;43m=\u001b[39;49m\u001b[43mprecompute\u001b[49m\u001b[43m,\u001b[49m\n\u001b[1;32m   1009\u001b[0m \u001b[43m    \u001b[49m\u001b[43mXy\u001b[49m\u001b[38;5;241;43m=\u001b[39;49m\u001b[43mthis_Xy\u001b[49m\u001b[43m,\u001b[49m\n\u001b[1;32m   1010\u001b[0m \u001b[43m    \u001b[49m\u001b[43mcopy_X\u001b[49m\u001b[38;5;241;43m=\u001b[39;49m\u001b[38;5;28;43;01mTrue\u001b[39;49;00m\u001b[43m,\u001b[49m\n\u001b[1;32m   1011\u001b[0m \u001b[43m    \u001b[49m\u001b[43mcoef_init\u001b[49m\u001b[38;5;241;43m=\u001b[39;49m\u001b[43mcoef_\u001b[49m\u001b[43m[\u001b[49m\u001b[43mk\u001b[49m\u001b[43m]\u001b[49m\u001b[43m,\u001b[49m\n\u001b[1;32m   1012\u001b[0m \u001b[43m    \u001b[49m\u001b[43mverbose\u001b[49m\u001b[38;5;241;43m=\u001b[39;49m\u001b[38;5;28;43;01mFalse\u001b[39;49;00m\u001b[43m,\u001b[49m\n\u001b[1;32m   1013\u001b[0m \u001b[43m    \u001b[49m\u001b[43mreturn_n_iter\u001b[49m\u001b[38;5;241;43m=\u001b[39;49m\u001b[38;5;28;43;01mTrue\u001b[39;49;00m\u001b[43m,\u001b[49m\n\u001b[1;32m   1014\u001b[0m \u001b[43m    \u001b[49m\u001b[43mpositive\u001b[49m\u001b[38;5;241;43m=\u001b[39;49m\u001b[38;5;28;43mself\u001b[39;49m\u001b[38;5;241;43m.\u001b[39;49m\u001b[43mpositive\u001b[49m\u001b[43m,\u001b[49m\n\u001b[1;32m   1015\u001b[0m \u001b[43m    \u001b[49m\u001b[43mcheck_input\u001b[49m\u001b[38;5;241;43m=\u001b[39;49m\u001b[38;5;28;43;01mFalse\u001b[39;49;00m\u001b[43m,\u001b[49m\n\u001b[1;32m   1016\u001b[0m \u001b[43m    \u001b[49m\u001b[38;5;66;43;03m# from here on **params\u001b[39;49;00m\n\u001b[1;32m   1017\u001b[0m \u001b[43m    \u001b[49m\u001b[43mtol\u001b[49m\u001b[38;5;241;43m=\u001b[39;49m\u001b[38;5;28;43mself\u001b[39;49m\u001b[38;5;241;43m.\u001b[39;49m\u001b[43mtol\u001b[49m\u001b[43m,\u001b[49m\n\u001b[1;32m   1018\u001b[0m \u001b[43m    \u001b[49m\u001b[43mX_offset\u001b[49m\u001b[38;5;241;43m=\u001b[39;49m\u001b[43mX_offset\u001b[49m\u001b[43m,\u001b[49m\n\u001b[1;32m   1019\u001b[0m \u001b[43m    \u001b[49m\u001b[43mX_scale\u001b[49m\u001b[38;5;241;43m=\u001b[39;49m\u001b[43mX_scale\u001b[49m\u001b[43m,\u001b[49m\n\u001b[1;32m   1020\u001b[0m \u001b[43m    \u001b[49m\u001b[43mmax_iter\u001b[49m\u001b[38;5;241;43m=\u001b[39;49m\u001b[38;5;28;43mself\u001b[39;49m\u001b[38;5;241;43m.\u001b[39;49m\u001b[43mmax_iter\u001b[49m\u001b[43m,\u001b[49m\n\u001b[1;32m   1021\u001b[0m \u001b[43m    \u001b[49m\u001b[43mrandom_state\u001b[49m\u001b[38;5;241;43m=\u001b[39;49m\u001b[38;5;28;43mself\u001b[39;49m\u001b[38;5;241;43m.\u001b[39;49m\u001b[43mrandom_state\u001b[49m\u001b[43m,\u001b[49m\n\u001b[1;32m   1022\u001b[0m \u001b[43m    \u001b[49m\u001b[43mselection\u001b[49m\u001b[38;5;241;43m=\u001b[39;49m\u001b[38;5;28;43mself\u001b[39;49m\u001b[38;5;241;43m.\u001b[39;49m\u001b[43mselection\u001b[49m\u001b[43m,\u001b[49m\n\u001b[1;32m   1023\u001b[0m \u001b[43m    \u001b[49m\u001b[43msample_weight\u001b[49m\u001b[38;5;241;43m=\u001b[39;49m\u001b[43msample_weight\u001b[49m\u001b[43m,\u001b[49m\n\u001b[1;32m   1024\u001b[0m \u001b[43m\u001b[49m\u001b[43m)\u001b[49m\n\u001b[1;32m   1025\u001b[0m coef_[k] \u001b[38;5;241m=\u001b[39m this_coef[:, \u001b[38;5;241m0\u001b[39m]\n\u001b[1;32m   1026\u001b[0m dual_gaps_[k] \u001b[38;5;241m=\u001b[39m this_dual_gap[\u001b[38;5;241m0\u001b[39m]\n",
      "File \u001b[0;32m~/miniconda3/envs/myenv/lib/python3.12/site-packages/celer/dropin_sklearn.py:125\u001b[0m, in \u001b[0;36mLasso.path\u001b[0;34m(self, X, y, alphas, coef_init, return_n_iter, **kwargs)\u001b[0m\n\u001b[1;32m    123\u001b[0m \u001b[38;5;28;01mdef\u001b[39;00m \u001b[38;5;21mpath\u001b[39m(\u001b[38;5;28mself\u001b[39m, X, y, alphas, coef_init\u001b[38;5;241m=\u001b[39m\u001b[38;5;28;01mNone\u001b[39;00m, return_n_iter\u001b[38;5;241m=\u001b[39m\u001b[38;5;28;01mTrue\u001b[39;00m, \u001b[38;5;241m*\u001b[39m\u001b[38;5;241m*\u001b[39mkwargs):\n\u001b[1;32m    124\u001b[0m \u001b[38;5;250m    \u001b[39m\u001b[38;5;124;03m\"\"\"Compute Lasso path with Celer.\"\"\"\u001b[39;00m\n\u001b[0;32m--> 125\u001b[0m     results \u001b[38;5;241m=\u001b[39m \u001b[43mceler_path\u001b[49m\u001b[43m(\u001b[49m\n\u001b[1;32m    126\u001b[0m \u001b[43m        \u001b[49m\u001b[43mX\u001b[49m\u001b[43m,\u001b[49m\u001b[43m \u001b[49m\u001b[43my\u001b[49m\u001b[43m,\u001b[49m\u001b[43m \u001b[49m\u001b[38;5;124;43m\"\u001b[39;49m\u001b[38;5;124;43mlasso\u001b[39;49m\u001b[38;5;124;43m\"\u001b[39;49m\u001b[43m,\u001b[49m\u001b[43m \u001b[49m\u001b[43malphas\u001b[49m\u001b[38;5;241;43m=\u001b[39;49m\u001b[43malphas\u001b[49m\u001b[43m,\u001b[49m\u001b[43m \u001b[49m\u001b[43ml1_ratio\u001b[49m\u001b[38;5;241;43m=\u001b[39;49m\u001b[38;5;241;43m1.0\u001b[39;49m\u001b[43m,\u001b[49m\u001b[43m \u001b[49m\u001b[43mcoef_init\u001b[49m\u001b[38;5;241;43m=\u001b[39;49m\u001b[43mcoef_init\u001b[49m\u001b[43m,\u001b[49m\n\u001b[1;32m    127\u001b[0m \u001b[43m        \u001b[49m\u001b[43mmax_iter\u001b[49m\u001b[38;5;241;43m=\u001b[39;49m\u001b[38;5;28;43mself\u001b[39;49m\u001b[38;5;241;43m.\u001b[39;49m\u001b[43mmax_iter\u001b[49m\u001b[43m,\u001b[49m\u001b[43m \u001b[49m\u001b[43mreturn_n_iter\u001b[49m\u001b[38;5;241;43m=\u001b[39;49m\u001b[43mreturn_n_iter\u001b[49m\u001b[43m,\u001b[49m\n\u001b[1;32m    128\u001b[0m \u001b[43m        \u001b[49m\u001b[43mmax_epochs\u001b[49m\u001b[38;5;241;43m=\u001b[39;49m\u001b[38;5;28;43mself\u001b[39;49m\u001b[38;5;241;43m.\u001b[39;49m\u001b[43mmax_epochs\u001b[49m\u001b[43m,\u001b[49m\u001b[43m \u001b[49m\u001b[43mp0\u001b[49m\u001b[38;5;241;43m=\u001b[39;49m\u001b[38;5;28;43mself\u001b[39;49m\u001b[38;5;241;43m.\u001b[39;49m\u001b[43mp0\u001b[49m\u001b[43m,\u001b[49m\u001b[43m \u001b[49m\u001b[43mverbose\u001b[49m\u001b[38;5;241;43m=\u001b[39;49m\u001b[38;5;28;43mself\u001b[39;49m\u001b[38;5;241;43m.\u001b[39;49m\u001b[43mverbose\u001b[49m\u001b[43m,\u001b[49m\n\u001b[1;32m    129\u001b[0m \u001b[43m        \u001b[49m\u001b[43mtol\u001b[49m\u001b[38;5;241;43m=\u001b[39;49m\u001b[38;5;28;43mself\u001b[39;49m\u001b[38;5;241;43m.\u001b[39;49m\u001b[43mtol\u001b[49m\u001b[43m,\u001b[49m\u001b[43m \u001b[49m\u001b[43mprune\u001b[49m\u001b[38;5;241;43m=\u001b[39;49m\u001b[38;5;28;43mself\u001b[39;49m\u001b[38;5;241;43m.\u001b[39;49m\u001b[43mprune\u001b[49m\u001b[43m,\u001b[49m\u001b[43m \u001b[49m\u001b[43mweights\u001b[49m\u001b[38;5;241;43m=\u001b[39;49m\u001b[38;5;28;43mself\u001b[39;49m\u001b[38;5;241;43m.\u001b[39;49m\u001b[43mweights\u001b[49m\u001b[43m,\u001b[49m\n\u001b[1;32m    130\u001b[0m \u001b[43m        \u001b[49m\u001b[43mpositive\u001b[49m\u001b[38;5;241;43m=\u001b[39;49m\u001b[38;5;28;43mself\u001b[39;49m\u001b[38;5;241;43m.\u001b[39;49m\u001b[43mpositive\u001b[49m\u001b[43m,\u001b[49m\u001b[43m \u001b[49m\u001b[43mX_scale\u001b[49m\u001b[38;5;241;43m=\u001b[39;49m\u001b[43mkwargs\u001b[49m\u001b[38;5;241;43m.\u001b[39;49m\u001b[43mget\u001b[49m\u001b[43m(\u001b[49m\u001b[38;5;124;43m'\u001b[39;49m\u001b[38;5;124;43mX_scale\u001b[39;49m\u001b[38;5;124;43m'\u001b[39;49m\u001b[43m,\u001b[49m\u001b[43m \u001b[49m\u001b[38;5;28;43;01mNone\u001b[39;49;00m\u001b[43m)\u001b[49m\u001b[43m,\u001b[49m\n\u001b[1;32m    131\u001b[0m \u001b[43m        \u001b[49m\u001b[43mX_offset\u001b[49m\u001b[38;5;241;43m=\u001b[39;49m\u001b[43mkwargs\u001b[49m\u001b[38;5;241;43m.\u001b[39;49m\u001b[43mget\u001b[49m\u001b[43m(\u001b[49m\u001b[38;5;124;43m'\u001b[39;49m\u001b[38;5;124;43mX_offset\u001b[39;49m\u001b[38;5;124;43m'\u001b[39;49m\u001b[43m,\u001b[49m\u001b[43m \u001b[49m\u001b[38;5;28;43;01mNone\u001b[39;49;00m\u001b[43m)\u001b[49m\u001b[43m)\u001b[49m\n\u001b[1;32m    133\u001b[0m     \u001b[38;5;28;01mreturn\u001b[39;00m results\n",
      "File \u001b[0;32m~/miniconda3/envs/myenv/lib/python3.12/site-packages/celer/homotopy.py:324\u001b[0m, in \u001b[0;36mceler_path\u001b[0;34m(X, y, pb, eps, n_alphas, alphas, l1_ratio, coef_init, max_iter, max_epochs, p0, verbose, tol, prune, weights, groups, return_thetas, use_PN, X_offset, X_scale, return_n_iter, positive)\u001b[0m\n\u001b[1;32m    322\u001b[0m \u001b[38;5;66;03m# TODO handle case of enet\u001b[39;00m\n\u001b[1;32m    323\u001b[0m \u001b[38;5;28;01melif\u001b[39;00m pb \u001b[38;5;241m==\u001b[39m LASSO \u001b[38;5;129;01mor\u001b[39;00m (pb \u001b[38;5;241m==\u001b[39m LOGREG \u001b[38;5;129;01mand\u001b[39;00m \u001b[38;5;129;01mnot\u001b[39;00m use_PN):\n\u001b[0;32m--> 324\u001b[0m     sol \u001b[38;5;241m=\u001b[39m \u001b[43mceler\u001b[49m\u001b[43m(\u001b[49m\n\u001b[1;32m    325\u001b[0m \u001b[43m        \u001b[49m\u001b[43mis_sparse\u001b[49m\u001b[43m,\u001b[49m\u001b[43m \u001b[49m\u001b[43mpb\u001b[49m\u001b[43m,\u001b[49m\n\u001b[1;32m    326\u001b[0m \u001b[43m        \u001b[49m\u001b[43mX_dense\u001b[49m\u001b[43m,\u001b[49m\u001b[43m \u001b[49m\u001b[43mX_data\u001b[49m\u001b[43m,\u001b[49m\u001b[43m \u001b[49m\u001b[43mX_indices\u001b[49m\u001b[43m,\u001b[49m\u001b[43m \u001b[49m\u001b[43mX_indptr\u001b[49m\u001b[43m,\u001b[49m\u001b[43m \u001b[49m\u001b[43mX_sparse_scaling\u001b[49m\u001b[43m,\u001b[49m\u001b[43m \u001b[49m\u001b[43my\u001b[49m\u001b[43m,\u001b[49m\n\u001b[1;32m    327\u001b[0m \u001b[43m        \u001b[49m\u001b[43malpha\u001b[49m\u001b[43m,\u001b[49m\u001b[43m \u001b[49m\u001b[43ml1_ratio\u001b[49m\u001b[43m,\u001b[49m\u001b[43m \u001b[49m\u001b[43mw\u001b[49m\u001b[43m,\u001b[49m\u001b[43m \u001b[49m\u001b[43mXw\u001b[49m\u001b[43m,\u001b[49m\u001b[43m \u001b[49m\u001b[43mtheta\u001b[49m\u001b[43m,\u001b[49m\u001b[43m \u001b[49m\u001b[43mnorms_X_col\u001b[49m\u001b[43m,\u001b[49m\u001b[43m \u001b[49m\u001b[43mweights\u001b[49m\u001b[43m,\u001b[49m\n\u001b[1;32m    328\u001b[0m \u001b[43m        \u001b[49m\u001b[43mmax_iter\u001b[49m\u001b[38;5;241;43m=\u001b[39;49m\u001b[43mmax_iter\u001b[49m\u001b[43m,\u001b[49m\u001b[43m \u001b[49m\u001b[43mmax_epochs\u001b[49m\u001b[38;5;241;43m=\u001b[39;49m\u001b[43mmax_epochs\u001b[49m\u001b[43m,\u001b[49m\n\u001b[1;32m    329\u001b[0m \u001b[43m        \u001b[49m\u001b[43mp0\u001b[49m\u001b[38;5;241;43m=\u001b[39;49m\u001b[43mp0\u001b[49m\u001b[43m,\u001b[49m\u001b[43m \u001b[49m\u001b[43mverbose\u001b[49m\u001b[38;5;241;43m=\u001b[39;49m\u001b[43mverbose\u001b[49m\u001b[43m,\u001b[49m\u001b[43m \u001b[49m\u001b[43muse_accel\u001b[49m\u001b[38;5;241;43m=\u001b[39;49m\u001b[38;5;241;43m1\u001b[39;49m\u001b[43m,\u001b[49m\u001b[43m \u001b[49m\u001b[43mtol\u001b[49m\u001b[38;5;241;43m=\u001b[39;49m\u001b[43mtol\u001b[49m\u001b[43m,\u001b[49m\u001b[43m \u001b[49m\u001b[43mprune\u001b[49m\u001b[38;5;241;43m=\u001b[39;49m\u001b[43mprune\u001b[49m\u001b[43m,\u001b[49m\n\u001b[1;32m    330\u001b[0m \u001b[43m        \u001b[49m\u001b[43mpositive\u001b[49m\u001b[38;5;241;43m=\u001b[39;49m\u001b[43mpositive\u001b[49m\u001b[43m)\u001b[49m\n\u001b[1;32m    331\u001b[0m \u001b[38;5;28;01melse\u001b[39;00m:  \u001b[38;5;66;03m# pb == LOGREG and use_PN\u001b[39;00m\n\u001b[1;32m    332\u001b[0m     sol \u001b[38;5;241m=\u001b[39m newton_celer(\n\u001b[1;32m    333\u001b[0m         is_sparse, X_dense, X_data, X_indices, X_indptr, y, alpha, w,\n\u001b[1;32m    334\u001b[0m         max_iter, tol\u001b[38;5;241m=\u001b[39mtol, p0\u001b[38;5;241m=\u001b[39mp0, verbose\u001b[38;5;241m=\u001b[39mverbose, prune\u001b[38;5;241m=\u001b[39mprune)\n",
      "File \u001b[0;32m~/miniconda3/envs/myenv/lib/python3.12/site-packages/celer/lasso_fast.pyx:212\u001b[0m, in \u001b[0;36mceler.lasso_fast.celer\u001b[0;34m()\u001b[0m\n",
      "File \u001b[0;32m~/miniconda3/envs/myenv/lib/python3.12/site-packages/numpy/core/fromnumeric.py:775\u001b[0m, in \u001b[0;36m_argpartition_dispatcher\u001b[0;34m(a, kth, axis, kind, order)\u001b[0m\n\u001b[1;32m    771\u001b[0m     a\u001b[38;5;241m.\u001b[39mpartition(kth, axis\u001b[38;5;241m=\u001b[39maxis, kind\u001b[38;5;241m=\u001b[39mkind, order\u001b[38;5;241m=\u001b[39morder)\n\u001b[1;32m    772\u001b[0m     \u001b[38;5;28;01mreturn\u001b[39;00m a\n\u001b[0;32m--> 775\u001b[0m \u001b[38;5;28;01mdef\u001b[39;00m \u001b[38;5;21m_argpartition_dispatcher\u001b[39m(a, kth, axis\u001b[38;5;241m=\u001b[39m\u001b[38;5;28;01mNone\u001b[39;00m, kind\u001b[38;5;241m=\u001b[39m\u001b[38;5;28;01mNone\u001b[39;00m, order\u001b[38;5;241m=\u001b[39m\u001b[38;5;28;01mNone\u001b[39;00m):\n\u001b[1;32m    776\u001b[0m     \u001b[38;5;28;01mreturn\u001b[39;00m (a,)\n\u001b[1;32m    779\u001b[0m \u001b[38;5;129m@array_function_dispatch\u001b[39m(_argpartition_dispatcher)\n\u001b[1;32m    780\u001b[0m \u001b[38;5;28;01mdef\u001b[39;00m \u001b[38;5;21margpartition\u001b[39m(a, kth, axis\u001b[38;5;241m=\u001b[39m\u001b[38;5;241m-\u001b[39m\u001b[38;5;241m1\u001b[39m, kind\u001b[38;5;241m=\u001b[39m\u001b[38;5;124m'\u001b[39m\u001b[38;5;124mintroselect\u001b[39m\u001b[38;5;124m'\u001b[39m, order\u001b[38;5;241m=\u001b[39m\u001b[38;5;28;01mNone\u001b[39;00m):\n",
      "\u001b[0;31mKeyboardInterrupt\u001b[0m: "
     ]
    }
   ],
   "source": [
    "# Projection matrices\n",
    "print(\"Writing to:\", projmat_dir)\n",
    "for source in tqdm(feats_dict):\n",
    "    for target in tqdm(feats_dict, leave=False):\n",
    "        if source == target:\n",
    "            continue\n",
    "\n",
    "        npy_fn = projmat_dir / f\"{source}-{target}.npy\"\n",
    "        if npy_fn.is_file():\n",
    "            continue\n",
    "\n",
    "        source_feats = feats_dict[source][:n_frames, :]\n",
    "        # target_feats = feats_dict[target][:n_frames, :]\n",
    "        target_feats = feats_dict[target]\n",
    "        source_feats = torch.from_numpy(source_feats).float().to(device)\n",
    "        target_feats = torch.from_numpy(target_feats).float().to(device)\n",
    "\n",
    "        dists = fast_cosine_dist(source_feats, target_feats, device=device)\n",
    "        best = dists.topk(k=k_top, largest=False, dim=-1)        \n",
    "        linear_target = target_feats[best.indices].mean(dim=1)\n",
    "\n",
    "        # W, _, _, _ = linalg.lstsq(source_feats.cpu(), linear_target.cpu())\n",
    "\n",
    "         # W, _ = linalg.orthogonal_procrustes(src_mat.cpu(), tgt_feats.cpu())\n",
    "\n",
    "        linear = celer.Lasso(alpha=0.3, fit_intercept=False).fit(\n",
    "            source_feats.squeeze().cpu(), linear_target.cpu()\n",
    "        )\n",
    "        W = linear.coef_.T\n",
    "        \n",
    "        # linear = Ridge(alpha=1e4, fit_intercept=False).fit(\n",
    "        #     source_feats.squeeze().cpu(), linear_target.cpu()\n",
    "        # )\n",
    "        # W = linear.coef_.T\n",
    "\n",
    "        # W = torch.from_numpy(W).float().to(device)\n",
    "        # projmats[f\"{source}-{target}\"] = W\n",
    "        # projmats[f\"{source}-{target}\"] = np.float16(W)\n",
    "\n",
    "        W = np.float16(W)\n",
    "        np.save(npy_fn, W)\n",
    "\n",
    "        # assert False"
   ]
  },
  {
   "cell_type": "code",
   "execution_count": null,
   "id": "633620f9-8a33-40b6-b9b4-3e5128dcaf92",
   "metadata": {},
   "outputs": [],
   "source": [
    "# Load projection matrices\n",
    "projmats = {}\n",
    "for source in tqdm(feats_dict):\n",
    "    for target in tqdm(feats_dict, leave=False):\n",
    "        if source == target:\n",
    "            continue\n",
    "\n",
    "        npy_fn = projmat_dir / f\"{source}-{target}.npy\"\n",
    "\n",
    "        projmats[f\"{source}-{target}\"] = np.load(npy_fn)"
   ]
  },
  {
   "cell_type": "markdown",
   "id": "0062b7e2-d7d0-41bb-81d3-d6db4c32b172",
   "metadata": {},
   "source": [
    "### Projection matrices in parallel"
   ]
  },
  {
   "cell_type": "code",
   "execution_count": 5,
   "id": "a4808ed6-3cda-4921-a52e-3164aa47a3db",
   "metadata": {},
   "outputs": [],
   "source": [
    "tmp_output_dir = output_dir / \"temp\"\n",
    "tmp_output_dir.mkdir(exist_ok=True, parents=True)"
   ]
  },
  {
   "cell_type": "code",
   "execution_count": 6,
   "id": "aff41a60-7a51-4c8d-a3e3-1cb32251af33",
   "metadata": {},
   "outputs": [
    {
     "data": {
      "application/vnd.jupyter.widget-view+json": {
       "model_id": "7bab76034b8b40c38b39bb3dfdd2f0c4",
       "version_major": 2,
       "version_minor": 0
      },
      "text/plain": [
       "  0%|          | 0/40 [00:00<?, ?it/s]"
      ]
     },
     "metadata": {},
     "output_type": "display_data"
    },
    {
     "data": {
      "application/vnd.jupyter.widget-view+json": {
       "model_id": "",
       "version_major": 2,
       "version_minor": 0
      },
      "text/plain": [
       "  0%|          | 0/40 [00:00<?, ?it/s]"
      ]
     },
     "metadata": {},
     "output_type": "display_data"
    }
   ],
   "source": [
    "# Matching\n",
    "speaker_pairs_list = []\n",
    "for source in tqdm(feats_dict):\n",
    "    for target in tqdm(feats_dict, leave=False):\n",
    "        if source == target:\n",
    "            continue\n",
    "\n",
    "        source_feats = feats_dict[source][:n_frames, :]\n",
    "        # target_feats = feats_dict[target][:n_frames, :]\n",
    "        target_feats = feats_dict[target]\n",
    "        source_feats = torch.from_numpy(source_feats).float().to(device)\n",
    "        target_feats = torch.from_numpy(target_feats).float().to(device)\n",
    "\n",
    "        dists = fast_cosine_dist(source_feats, target_feats, device=device)\n",
    "        best = dists.topk(k=k_top, largest=False, dim=-1)        \n",
    "        linear_target = target_feats[best.indices].mean(dim=1)\n",
    "\n",
    "        np.save(\n",
    "            tmp_output_dir / f\"{source}-{target}_source.npy\",\n",
    "            np.float16(source_feats.squeeze().cpu().numpy())\n",
    "        )\n",
    "        np.save(\n",
    "            tmp_output_dir / f\"{source}-{target}_target.npy\",\n",
    "            np.float16(linear_target.cpu().numpy())\n",
    "        )\n",
    "        speaker_pairs_list.append(f\"{source}-{target}\")\n",
    "\n",
    "    break"
   ]
  },
  {
   "cell_type": "code",
   "execution_count": null,
   "id": "bfac654c-0d60-4db5-a1ae-82cb6d05bbc5",
   "metadata": {},
   "outputs": [
    {
     "data": {
      "application/vnd.jupyter.widget-view+json": {
       "model_id": "717e692b288541de8a0fda54ad04a695",
       "version_major": 2,
       "version_minor": 0
      },
      "text/plain": [
       "  0%|          | 0/39 [00:00<?, ?it/s]"
      ]
     },
     "metadata": {},
     "output_type": "display_data"
    }
   ],
   "source": [
    "from concurrent.futures import ProcessPoolExecutor\n",
    "\n",
    "# Projection matrices\n",
    "n_max_workers = 10\n",
    "\n",
    "\n",
    "def get_projmat(source_target):\n",
    "    source_feats = np.load(tmp_output_dir / f\"{source_target}_source.npy\")\n",
    "    target_feats = np.load(tmp_output_dir / f\"{source_target}_target.npy\")\n",
    "    \n",
    "    # print(source_feats.shape)\n",
    "    linear = celer.Lasso(alpha=3.0, fit_intercept=False).fit(\n",
    "        source_feats[:8*1024, :], target_feats[:8*1024, :]\n",
    "    )\n",
    "    W = np.float16(linear.coef_.T)\n",
    "\n",
    "    npy_fn = tmp_output_dir / f\"{source_target}.npy\"\n",
    "    np.save(npy_fn, W)\n",
    "\n",
    "    return npy_fn\n",
    "\n",
    "\n",
    "with ProcessPoolExecutor(max_workers=n_max_workers) as executor:\n",
    "    results = list(\n",
    "        tqdm(\n",
    "            executor.map(get_projmat, speaker_pairs_list),\n",
    "            total=len(speaker_pairs_list),\n",
    "        )\n",
    "    )"
   ]
  },
  {
   "cell_type": "code",
   "execution_count": 7,
   "id": "fb7ee0f1-7f4a-4bf6-a57e-6fe9dbd6de6a",
   "metadata": {},
   "outputs": [
    {
     "data": {
      "application/vnd.jupyter.widget-view+json": {
       "model_id": "dce6d6add6b0497294c09fab9f887a67",
       "version_major": 2,
       "version_minor": 0
      },
      "text/plain": [
       "  0%|          | 0/40 [00:00<?, ?it/s]"
      ]
     },
     "metadata": {},
     "output_type": "display_data"
    },
    {
     "data": {
      "application/vnd.jupyter.widget-view+json": {
       "model_id": "",
       "version_major": 2,
       "version_minor": 0
      },
      "text/plain": [
       "  0%|          | 0/40 [00:00<?, ?it/s]"
      ]
     },
     "metadata": {},
     "output_type": "display_data"
    }
   ],
   "source": [
    "# Matching\n",
    "\n",
    "source_feats_list = []\n",
    "target_feats_list = []\n",
    "speaker_pairs_list = []\n",
    "\n",
    "for source in tqdm(feats_dict):\n",
    "    for target in tqdm(feats_dict, leave=False):\n",
    "        if source == target:\n",
    "            continue\n",
    "\n",
    "        source_feats = feats_dict[source][:n_frames, :]\n",
    "        # target_feats = feats_dict[target][:n_frames, :]\n",
    "        target_feats = feats_dict[target]\n",
    "        source_feats = torch.from_numpy(source_feats).float().to(device)\n",
    "        target_feats = torch.from_numpy(target_feats).float().to(device)\n",
    "\n",
    "        dists = fast_cosine_dist(source_feats, target_feats, device=device)\n",
    "        best = dists.topk(k=k_top, largest=False, dim=-1)        \n",
    "        linear_target = target_feats[best.indices].mean(dim=1)\n",
    "\n",
    "        source_feats_list.append(np.float16(source_feats.squeeze().cpu().numpy()))\n",
    "        target_feats_list.append(np.float16(linear_target.cpu().numpy()))\n",
    "        speaker_pairs_list.append(f\"{source}-{target}\")\n",
    "\n",
    "\n",
    "    break"
   ]
  },
  {
   "cell_type": "code",
   "execution_count": 18,
   "id": "f3a066b1-3bf2-4ee2-a33f-9b571da77e1c",
   "metadata": {},
   "outputs": [
    {
     "data": {
      "application/vnd.jupyter.widget-view+json": {
       "model_id": "dd49748ce9be4fe691f2d74273654181",
       "version_major": 2,
       "version_minor": 0
      },
      "text/plain": [
       "  0%|          | 0/39 [00:00<?, ?it/s]"
      ]
     },
     "metadata": {},
     "output_type": "display_data"
    },
    {
     "ename": "KeyboardInterrupt",
     "evalue": "",
     "output_type": "error",
     "traceback": [
      "\u001b[0;31m---------------------------------------------------------------------------\u001b[0m",
      "\u001b[0;31mKeyboardInterrupt\u001b[0m                         Traceback (most recent call last)",
      "Cell \u001b[0;32mIn[18], line 18\u001b[0m\n\u001b[1;32m     17\u001b[0m \u001b[38;5;28;01mwith\u001b[39;00m ProcessPoolExecutor(max_workers\u001b[38;5;241m=\u001b[39mn_max_workers) \u001b[38;5;28;01mas\u001b[39;00m executor:\n\u001b[0;32m---> 18\u001b[0m     results \u001b[38;5;241m=\u001b[39m \u001b[38;5;28;43mlist\u001b[39;49m\u001b[43m(\u001b[49m\n\u001b[1;32m     19\u001b[0m \u001b[43m        \u001b[49m\u001b[43mtqdm\u001b[49m\u001b[43m(\u001b[49m\n\u001b[1;32m     20\u001b[0m \u001b[43m            \u001b[49m\u001b[43mexecutor\u001b[49m\u001b[38;5;241;43m.\u001b[39;49m\u001b[43mmap\u001b[49m\u001b[43m(\u001b[49m\u001b[43mget_projmat\u001b[49m\u001b[43m,\u001b[49m\u001b[43m \u001b[49m\u001b[43msource_feats_list\u001b[49m\u001b[43m,\u001b[49m\u001b[43m \u001b[49m\u001b[43mtarget_feats_list\u001b[49m\u001b[43m)\u001b[49m\u001b[43m,\u001b[49m\n\u001b[1;32m     21\u001b[0m \u001b[43m            \u001b[49m\u001b[43mtotal\u001b[49m\u001b[38;5;241;43m=\u001b[39;49m\u001b[38;5;28;43mlen\u001b[39;49m\u001b[43m(\u001b[49m\u001b[43mspeaker_pairs_list\u001b[49m\u001b[43m)\u001b[49m\u001b[43m,\u001b[49m\n\u001b[1;32m     22\u001b[0m \u001b[43m        \u001b[49m\u001b[43m)\u001b[49m\n\u001b[1;32m     23\u001b[0m \u001b[43m    \u001b[49m\u001b[43m)\u001b[49m\n",
      "File \u001b[0;32m~/miniconda3/envs/myenv/lib/python3.12/site-packages/tqdm/notebook.py:249\u001b[0m, in \u001b[0;36mtqdm_notebook.__iter__\u001b[0;34m(self)\u001b[0m\n\u001b[1;32m    248\u001b[0m it \u001b[38;5;241m=\u001b[39m \u001b[38;5;28msuper\u001b[39m(tqdm_notebook, \u001b[38;5;28mself\u001b[39m)\u001b[38;5;241m.\u001b[39m\u001b[38;5;21m__iter__\u001b[39m()\n\u001b[0;32m--> 249\u001b[0m \u001b[43m\u001b[49m\u001b[38;5;28;43;01mfor\u001b[39;49;00m\u001b[43m \u001b[49m\u001b[43mobj\u001b[49m\u001b[43m \u001b[49m\u001b[38;5;129;43;01min\u001b[39;49;00m\u001b[43m \u001b[49m\u001b[43mit\u001b[49m\u001b[43m:\u001b[49m\n\u001b[1;32m    250\u001b[0m \u001b[43m    \u001b[49m\u001b[38;5;66;43;03m# return super(tqdm...) will not catch exception\u001b[39;49;00m\n\u001b[1;32m    251\u001b[0m \u001b[43m    \u001b[49m\u001b[38;5;28;43;01myield\u001b[39;49;00m\u001b[43m \u001b[49m\u001b[43mobj\u001b[49m\n",
      "File \u001b[0;32m~/miniconda3/envs/myenv/lib/python3.12/site-packages/tqdm/std.py:1182\u001b[0m, in \u001b[0;36mtqdm.__iter__\u001b[0;34m(self)\u001b[0m\n\u001b[1;32m   1181\u001b[0m \u001b[38;5;28;01mtry\u001b[39;00m:\n\u001b[0;32m-> 1182\u001b[0m \u001b[43m    \u001b[49m\u001b[38;5;28;43;01mfor\u001b[39;49;00m\u001b[43m \u001b[49m\u001b[43mobj\u001b[49m\u001b[43m \u001b[49m\u001b[38;5;129;43;01min\u001b[39;49;00m\u001b[43m \u001b[49m\u001b[43miterable\u001b[49m\u001b[43m:\u001b[49m\n\u001b[1;32m   1183\u001b[0m \u001b[43m        \u001b[49m\u001b[38;5;28;43;01myield\u001b[39;49;00m\u001b[43m \u001b[49m\u001b[43mobj\u001b[49m\n",
      "File \u001b[0;32m~/miniconda3/envs/myenv/lib/python3.12/concurrent/futures/process.py:647\u001b[0m, in \u001b[0;36m_chain_from_iterable_of_lists\u001b[0;34m(iterable)\u001b[0m\n\u001b[1;32m    642\u001b[0m \u001b[38;5;250m\u001b[39m\u001b[38;5;124;03m\"\"\"\u001b[39;00m\n\u001b[1;32m    643\u001b[0m \u001b[38;5;124;03mSpecialized implementation of itertools.chain.from_iterable.\u001b[39;00m\n\u001b[1;32m    644\u001b[0m \u001b[38;5;124;03mEach item in *iterable* should be a list.  This function is\u001b[39;00m\n\u001b[1;32m    645\u001b[0m \u001b[38;5;124;03mcareful not to keep references to yielded objects.\u001b[39;00m\n\u001b[1;32m    646\u001b[0m \u001b[38;5;124;03m\"\"\"\u001b[39;00m\n\u001b[0;32m--> 647\u001b[0m \u001b[43m\u001b[49m\u001b[38;5;28;43;01mfor\u001b[39;49;00m\u001b[43m \u001b[49m\u001b[43melement\u001b[49m\u001b[43m \u001b[49m\u001b[38;5;129;43;01min\u001b[39;49;00m\u001b[43m \u001b[49m\u001b[43miterable\u001b[49m\u001b[43m:\u001b[49m\n\u001b[1;32m    648\u001b[0m \u001b[43m    \u001b[49m\u001b[43melement\u001b[49m\u001b[38;5;241;43m.\u001b[39;49m\u001b[43mreverse\u001b[49m\u001b[43m(\u001b[49m\u001b[43m)\u001b[49m\n",
      "File \u001b[0;32m~/miniconda3/envs/myenv/lib/python3.12/concurrent/futures/_base.py:619\u001b[0m, in \u001b[0;36mExecutor.map.<locals>.result_iterator\u001b[0;34m()\u001b[0m\n\u001b[1;32m    618\u001b[0m \u001b[38;5;28;01mif\u001b[39;00m timeout \u001b[38;5;129;01mis\u001b[39;00m \u001b[38;5;28;01mNone\u001b[39;00m:\n\u001b[0;32m--> 619\u001b[0m     \u001b[38;5;28;01myield\u001b[39;00m \u001b[43m_result_or_cancel\u001b[49m\u001b[43m(\u001b[49m\u001b[43mfs\u001b[49m\u001b[38;5;241;43m.\u001b[39;49m\u001b[43mpop\u001b[49m\u001b[43m(\u001b[49m\u001b[43m)\u001b[49m\u001b[43m)\u001b[49m\n\u001b[1;32m    620\u001b[0m \u001b[38;5;28;01melse\u001b[39;00m:\n",
      "File \u001b[0;32m~/miniconda3/envs/myenv/lib/python3.12/concurrent/futures/_base.py:317\u001b[0m, in \u001b[0;36m_result_or_cancel\u001b[0;34m(***failed resolving arguments***)\u001b[0m\n\u001b[1;32m    316\u001b[0m \u001b[38;5;28;01mtry\u001b[39;00m:\n\u001b[0;32m--> 317\u001b[0m     \u001b[38;5;28;01mreturn\u001b[39;00m \u001b[43mfut\u001b[49m\u001b[38;5;241;43m.\u001b[39;49m\u001b[43mresult\u001b[49m\u001b[43m(\u001b[49m\u001b[43mtimeout\u001b[49m\u001b[43m)\u001b[49m\n\u001b[1;32m    318\u001b[0m \u001b[38;5;28;01mfinally\u001b[39;00m:\n",
      "File \u001b[0;32m~/miniconda3/envs/myenv/lib/python3.12/concurrent/futures/_base.py:451\u001b[0m, in \u001b[0;36mFuture.result\u001b[0;34m(self, timeout)\u001b[0m\n\u001b[1;32m    449\u001b[0m     \u001b[38;5;28;01mreturn\u001b[39;00m \u001b[38;5;28mself\u001b[39m\u001b[38;5;241m.\u001b[39m__get_result()\n\u001b[0;32m--> 451\u001b[0m \u001b[38;5;28;43mself\u001b[39;49m\u001b[38;5;241;43m.\u001b[39;49m\u001b[43m_condition\u001b[49m\u001b[38;5;241;43m.\u001b[39;49m\u001b[43mwait\u001b[49m\u001b[43m(\u001b[49m\u001b[43mtimeout\u001b[49m\u001b[43m)\u001b[49m\n\u001b[1;32m    453\u001b[0m \u001b[38;5;28;01mif\u001b[39;00m \u001b[38;5;28mself\u001b[39m\u001b[38;5;241m.\u001b[39m_state \u001b[38;5;129;01min\u001b[39;00m [CANCELLED, CANCELLED_AND_NOTIFIED]:\n",
      "File \u001b[0;32m~/miniconda3/envs/myenv/lib/python3.12/threading.py:355\u001b[0m, in \u001b[0;36mCondition.wait\u001b[0;34m(self, timeout)\u001b[0m\n\u001b[1;32m    354\u001b[0m \u001b[38;5;28;01mif\u001b[39;00m timeout \u001b[38;5;129;01mis\u001b[39;00m \u001b[38;5;28;01mNone\u001b[39;00m:\n\u001b[0;32m--> 355\u001b[0m     \u001b[43mwaiter\u001b[49m\u001b[38;5;241;43m.\u001b[39;49m\u001b[43macquire\u001b[49m\u001b[43m(\u001b[49m\u001b[43m)\u001b[49m\n\u001b[1;32m    356\u001b[0m     gotit \u001b[38;5;241m=\u001b[39m \u001b[38;5;28;01mTrue\u001b[39;00m\n",
      "\u001b[0;31mKeyboardInterrupt\u001b[0m: ",
      "\nDuring handling of the above exception, another exception occurred:\n",
      "\u001b[0;31mKeyboardInterrupt\u001b[0m                         Traceback (most recent call last)",
      "Cell \u001b[0;32mIn[18], line 17\u001b[0m\n\u001b[1;32m     12\u001b[0m     W \u001b[38;5;241m=\u001b[39m np\u001b[38;5;241m.\u001b[39mfloat16(linear\u001b[38;5;241m.\u001b[39mcoef_\u001b[38;5;241m.\u001b[39mT)\n\u001b[1;32m     14\u001b[0m     \u001b[38;5;28;01mreturn\u001b[39;00m W\n\u001b[0;32m---> 17\u001b[0m \u001b[38;5;28;43;01mwith\u001b[39;49;00m\u001b[43m \u001b[49m\u001b[43mProcessPoolExecutor\u001b[49m\u001b[43m(\u001b[49m\u001b[43mmax_workers\u001b[49m\u001b[38;5;241;43m=\u001b[39;49m\u001b[43mn_max_workers\u001b[49m\u001b[43m)\u001b[49m\u001b[43m \u001b[49m\u001b[38;5;28;43;01mas\u001b[39;49;00m\u001b[43m \u001b[49m\u001b[43mexecutor\u001b[49m\u001b[43m:\u001b[49m\n\u001b[1;32m     18\u001b[0m \u001b[43m    \u001b[49m\u001b[43mresults\u001b[49m\u001b[43m \u001b[49m\u001b[38;5;241;43m=\u001b[39;49m\u001b[43m \u001b[49m\u001b[38;5;28;43mlist\u001b[39;49m\u001b[43m(\u001b[49m\n\u001b[1;32m     19\u001b[0m \u001b[43m        \u001b[49m\u001b[43mtqdm\u001b[49m\u001b[43m(\u001b[49m\n\u001b[1;32m     20\u001b[0m \u001b[43m            \u001b[49m\u001b[43mexecutor\u001b[49m\u001b[38;5;241;43m.\u001b[39;49m\u001b[43mmap\u001b[49m\u001b[43m(\u001b[49m\u001b[43mget_projmat\u001b[49m\u001b[43m,\u001b[49m\u001b[43m \u001b[49m\u001b[43msource_feats_list\u001b[49m\u001b[43m,\u001b[49m\u001b[43m \u001b[49m\u001b[43mtarget_feats_list\u001b[49m\u001b[43m)\u001b[49m\u001b[43m,\u001b[49m\n\u001b[1;32m     21\u001b[0m \u001b[43m            \u001b[49m\u001b[43mtotal\u001b[49m\u001b[38;5;241;43m=\u001b[39;49m\u001b[38;5;28;43mlen\u001b[39;49m\u001b[43m(\u001b[49m\u001b[43mspeaker_pairs_list\u001b[49m\u001b[43m)\u001b[49m\u001b[43m,\u001b[49m\n\u001b[1;32m     22\u001b[0m \u001b[43m        \u001b[49m\u001b[43m)\u001b[49m\n\u001b[1;32m     23\u001b[0m \u001b[43m    \u001b[49m\u001b[43m)\u001b[49m\n",
      "File \u001b[0;32m~/miniconda3/envs/myenv/lib/python3.12/concurrent/futures/_base.py:647\u001b[0m, in \u001b[0;36mExecutor.__exit__\u001b[0;34m(self, exc_type, exc_val, exc_tb)\u001b[0m\n\u001b[1;32m    646\u001b[0m \u001b[38;5;28;01mdef\u001b[39;00m \u001b[38;5;21m__exit__\u001b[39m(\u001b[38;5;28mself\u001b[39m, exc_type, exc_val, exc_tb):\n\u001b[0;32m--> 647\u001b[0m     \u001b[38;5;28;43mself\u001b[39;49m\u001b[38;5;241;43m.\u001b[39;49m\u001b[43mshutdown\u001b[49m\u001b[43m(\u001b[49m\u001b[43mwait\u001b[49m\u001b[38;5;241;43m=\u001b[39;49m\u001b[38;5;28;43;01mTrue\u001b[39;49;00m\u001b[43m)\u001b[49m\n\u001b[1;32m    648\u001b[0m     \u001b[38;5;28;01mreturn\u001b[39;00m \u001b[38;5;28;01mFalse\u001b[39;00m\n",
      "File \u001b[0;32m~/miniconda3/envs/myenv/lib/python3.12/concurrent/futures/process.py:878\u001b[0m, in \u001b[0;36mProcessPoolExecutor.shutdown\u001b[0;34m(self, wait, cancel_futures)\u001b[0m\n\u001b[1;32m    875\u001b[0m         \u001b[38;5;28mself\u001b[39m\u001b[38;5;241m.\u001b[39m_executor_manager_thread_wakeup\u001b[38;5;241m.\u001b[39mwakeup()\n\u001b[1;32m    877\u001b[0m \u001b[38;5;28;01mif\u001b[39;00m \u001b[38;5;28mself\u001b[39m\u001b[38;5;241m.\u001b[39m_executor_manager_thread \u001b[38;5;129;01mis\u001b[39;00m \u001b[38;5;129;01mnot\u001b[39;00m \u001b[38;5;28;01mNone\u001b[39;00m \u001b[38;5;129;01mand\u001b[39;00m wait:\n\u001b[0;32m--> 878\u001b[0m     \u001b[38;5;28;43mself\u001b[39;49m\u001b[38;5;241;43m.\u001b[39;49m\u001b[43m_executor_manager_thread\u001b[49m\u001b[38;5;241;43m.\u001b[39;49m\u001b[43mjoin\u001b[49m\u001b[43m(\u001b[49m\u001b[43m)\u001b[49m\n\u001b[1;32m    879\u001b[0m \u001b[38;5;66;03m# To reduce the risk of opening too many files, remove references to\u001b[39;00m\n\u001b[1;32m    880\u001b[0m \u001b[38;5;66;03m# objects that use file descriptors.\u001b[39;00m\n\u001b[1;32m    881\u001b[0m \u001b[38;5;28mself\u001b[39m\u001b[38;5;241m.\u001b[39m_executor_manager_thread \u001b[38;5;241m=\u001b[39m \u001b[38;5;28;01mNone\u001b[39;00m\n",
      "File \u001b[0;32m~/miniconda3/envs/myenv/lib/python3.12/threading.py:1147\u001b[0m, in \u001b[0;36mThread.join\u001b[0;34m(self, timeout)\u001b[0m\n\u001b[1;32m   1144\u001b[0m     \u001b[38;5;28;01mraise\u001b[39;00m \u001b[38;5;167;01mRuntimeError\u001b[39;00m(\u001b[38;5;124m\"\u001b[39m\u001b[38;5;124mcannot join current thread\u001b[39m\u001b[38;5;124m\"\u001b[39m)\n\u001b[1;32m   1146\u001b[0m \u001b[38;5;28;01mif\u001b[39;00m timeout \u001b[38;5;129;01mis\u001b[39;00m \u001b[38;5;28;01mNone\u001b[39;00m:\n\u001b[0;32m-> 1147\u001b[0m     \u001b[38;5;28;43mself\u001b[39;49m\u001b[38;5;241;43m.\u001b[39;49m\u001b[43m_wait_for_tstate_lock\u001b[49m\u001b[43m(\u001b[49m\u001b[43m)\u001b[49m\n\u001b[1;32m   1148\u001b[0m \u001b[38;5;28;01melse\u001b[39;00m:\n\u001b[1;32m   1149\u001b[0m     \u001b[38;5;66;03m# the behavior of a negative timeout isn't documented, but\u001b[39;00m\n\u001b[1;32m   1150\u001b[0m     \u001b[38;5;66;03m# historically .join(timeout=x) for x<0 has acted as if timeout=0\u001b[39;00m\n\u001b[1;32m   1151\u001b[0m     \u001b[38;5;28mself\u001b[39m\u001b[38;5;241m.\u001b[39m_wait_for_tstate_lock(timeout\u001b[38;5;241m=\u001b[39m\u001b[38;5;28mmax\u001b[39m(timeout, \u001b[38;5;241m0\u001b[39m))\n",
      "File \u001b[0;32m~/miniconda3/envs/myenv/lib/python3.12/threading.py:1167\u001b[0m, in \u001b[0;36mThread._wait_for_tstate_lock\u001b[0;34m(self, block, timeout)\u001b[0m\n\u001b[1;32m   1164\u001b[0m     \u001b[38;5;28;01mreturn\u001b[39;00m\n\u001b[1;32m   1166\u001b[0m \u001b[38;5;28;01mtry\u001b[39;00m:\n\u001b[0;32m-> 1167\u001b[0m     \u001b[38;5;28;01mif\u001b[39;00m \u001b[43mlock\u001b[49m\u001b[38;5;241;43m.\u001b[39;49m\u001b[43macquire\u001b[49m\u001b[43m(\u001b[49m\u001b[43mblock\u001b[49m\u001b[43m,\u001b[49m\u001b[43m \u001b[49m\u001b[43mtimeout\u001b[49m\u001b[43m)\u001b[49m:\n\u001b[1;32m   1168\u001b[0m         lock\u001b[38;5;241m.\u001b[39mrelease()\n\u001b[1;32m   1169\u001b[0m         \u001b[38;5;28mself\u001b[39m\u001b[38;5;241m.\u001b[39m_stop()\n",
      "\u001b[0;31mKeyboardInterrupt\u001b[0m: "
     ]
    }
   ],
   "source": [
    "from concurrent.futures import ProcessPoolExecutor\n",
    "\n",
    "# Projection matrices\n",
    "n_max_workers = 10\n",
    "\n",
    "\n",
    "def get_projmat(source_feats, target_feats):   \n",
    "    # print(source_feats.shape)\n",
    "    linear = celer.Lasso(alpha=3.0, fit_intercept=False).fit(\n",
    "        source_feats[:4*1024, :], target_feats[:4*1024, :]\n",
    "    )\n",
    "    W = np.float16(linear.coef_.T)\n",
    "\n",
    "    return W\n",
    "\n",
    "\n",
    "with ProcessPoolExecutor(max_workers=n_max_workers) as executor:\n",
    "    results = list(\n",
    "        tqdm(\n",
    "            executor.map(get_projmat, source_feats_list, target_feats_list),\n",
    "            total=len(speaker_pairs_list),\n",
    "        )\n",
    "    )"
   ]
  },
  {
   "cell_type": "code",
   "execution_count": null,
   "id": "226cff22-22eb-4058-9885-7dd63e93164c",
   "metadata": {},
   "outputs": [],
   "source": [
    "# Projection matrices\n",
    "projmats = {}\n",
    "for source in tqdm(feats_dict):\n",
    "    for target in tqdm(feats_dict, leave=False):\n",
    "        if source == target:\n",
    "            continue\n",
    "\n",
    "        source_feats = feats_dict[source][:n_frames, :]\n",
    "        # target_feats = feats_dict[target][:n_frames, :]\n",
    "        target_feats = feats_dict[target]\n",
    "        source_feats = torch.from_numpy(source_feats).float().to(device)\n",
    "        target_feats = torch.from_numpy(target_feats).float().to(device)\n",
    "\n",
    "        dists = fast_cosine_dist(source_feats, target_feats, device=device)\n",
    "        best = dists.topk(k=k_top, largest=False, dim=-1)        \n",
    "        linear_target = target_feats[best.indices].mean(dim=1)\n",
    "\n",
    "        # W, _, _, _ = linalg.lstsq(source_feats.cpu(), linear_target.cpu())\n",
    "\n",
    "         # W, _ = linalg.orthogonal_procrustes(src_mat.cpu(), tgt_feats.cpu())\n",
    "\n",
    "        linear = celer.Lasso(alpha=0.3, fit_intercept=False).fit(\n",
    "        # linear = celer.Lasso(alpha=3.0, fit_intercept=False).fit(\n",
    "            source_feats.squeeze().cpu(), linear_target.cpu()\n",
    "        )\n",
    "        W = linear.coef_.T\n",
    "        \n",
    "        # linear = Ridge(alpha=1e4, fit_intercept=False).fit(\n",
    "        #     source_feats.squeeze().cpu(), linear_target.cpu()\n",
    "        # )\n",
    "        # W = linear.coef_.T\n",
    "\n",
    "        # W = torch.from_numpy(W).float().to(device)\n",
    "        projmats[f\"{source}-{target}\"] = W\n",
    "        # projmats[f\"{source}-{target}\"] = np.float16(W)\n",
    "\n",
    "        # assert False"
   ]
  },
  {
   "cell_type": "code",
   "execution_count": null,
   "id": "9426c6c2-cfc2-4961-825d-9e35b7f8816b",
   "metadata": {},
   "outputs": [],
   "source": []
  }
 ],
 "metadata": {
  "kernelspec": {
   "display_name": "Python 3 (ipykernel)",
   "language": "python",
   "name": "python3"
  },
  "language_info": {
   "codemirror_mode": {
    "name": "ipython",
    "version": 3
   },
   "file_extension": ".py",
   "mimetype": "text/x-python",
   "name": "python",
   "nbconvert_exporter": "python",
   "pygments_lexer": "ipython3",
   "version": "3.12.1"
  }
 },
 "nbformat": 4,
 "nbformat_minor": 5
}
