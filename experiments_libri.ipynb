{
 "cells": [
  {
   "cell_type": "markdown",
   "id": "1f6cda4c-f788-4416-b8b6-3cc1454bb589",
   "metadata": {},
   "source": [
    "# kNN-VC and LinearVC experiments using all data\n",
    "\n",
    "Herman Kamper, 2024"
   ]
  },
  {
   "cell_type": "code",
   "execution_count": 1,
   "id": "41bd31c2-06e9-43ea-b359-a7159626c8ba",
   "metadata": {},
   "outputs": [],
   "source": [
    "from datetime import datetime\n",
    "from numpy import linalg\n",
    "from pathlib import Path\n",
    "from sklearn.linear_model import Lasso, LinearRegression, Ridge\n",
    "from tqdm.notebook import tqdm\n",
    "import celer\n",
    "import IPython.display as display\n",
    "import numpy as np\n",
    "import sys\n",
    "import torch\n",
    "import torchaudio\n",
    "\n",
    "from utils import fast_cosine_dist"
   ]
  },
  {
   "cell_type": "code",
   "execution_count": 2,
   "id": "fa02a4ca-ff1d-4234-ac1f-a51744d5bd76",
   "metadata": {},
   "outputs": [],
   "source": [
    "device = \"cuda\""
   ]
  },
  {
   "cell_type": "markdown",
   "id": "f8b79249-4cb5-4492-813f-34f938d252c8",
   "metadata": {},
   "source": [
    "## Models"
   ]
  },
  {
   "cell_type": "code",
   "execution_count": 3,
   "id": "9bb5654b-d78e-4bdd-8b0f-a0c724863e8c",
   "metadata": {},
   "outputs": [
    {
     "name": "stderr",
     "output_type": "stream",
     "text": [
      "Using cache found in /home/kamperh/.cache/torch/hub/bshall_knn-vc_master\n",
      "/home/kamperh/miniconda3/envs/myenv/lib/python3.12/site-packages/torch/nn/utils/weight_norm.py:28: UserWarning: torch.nn.utils.weight_norm is deprecated in favor of torch.nn.utils.parametrizations.weight_norm.\n",
      "  warnings.warn(\"torch.nn.utils.weight_norm is deprecated in favor of torch.nn.utils.parametrizations.weight_norm.\")\n"
     ]
    },
    {
     "name": "stdout",
     "output_type": "stream",
     "text": [
      "WavLM-Large loaded with 315,453,120 parameters.\n"
     ]
    }
   ],
   "source": [
    "wavlm = torch.hub.load(\"bshall/knn-vc\", \"wavlm_large\", trust_repo=True, device=device)"
   ]
  },
  {
   "cell_type": "code",
   "execution_count": 4,
   "id": "eaf4da88-f081-458b-b0ac-1b943d161012",
   "metadata": {},
   "outputs": [
    {
     "name": "stdout",
     "output_type": "stream",
     "text": [
      "Removing weight norm...\n",
      "[HiFiGAN] Generator loaded with 16,523,393 parameters.\n"
     ]
    },
    {
     "name": "stderr",
     "output_type": "stream",
     "text": [
      "Using cache found in /home/kamperh/.cache/torch/hub/bshall_knn-vc_master\n"
     ]
    }
   ],
   "source": [
    "hifigan, _ = torch.hub.load(\"bshall/knn-vc\", \"hifigan_wavlm\", trust_repo=True, device=device, prematched=True)"
   ]
  },
  {
   "cell_type": "markdown",
   "id": "d6f1b3c0-f6d5-4f91-84f6-2516422418f8",
   "metadata": {},
   "source": [
    "## LinearVC"
   ]
  },
  {
   "cell_type": "code",
   "execution_count": 5,
   "id": "450af097-56d6-470a-a2b7-cb9c626e58d4",
   "metadata": {},
   "outputs": [],
   "source": [
    "exp_tag = \"2024-09-22\"\n",
    "subset = \"test-clean\"\n",
    "eval_csv = Path(f\"data/speaker-sim-{subset}.csv\")\n",
    "feats_dir = Path(f\"/home/kamperh/scratch/{subset}/wavlm\")\n",
    "wav_dir = Path(f\"/home/kamperh/endgame/datasets/librispeech/LibriSpeech/{subset}\")\n",
    "output_dir = Path(f\"/home/kamperh/scratch/linearvc/{subset}/{exp_tag}\")\n",
    "\n",
    "n_frames = 8192  # 15000\n",
    "k_top = 1"
   ]
  },
  {
   "cell_type": "code",
   "execution_count": 6,
   "id": "03e39098-c662-474c-802f-2e878a4d3778",
   "metadata": {},
   "outputs": [
    {
     "name": "stdout",
     "output_type": "stream",
     "text": [
      "Reading from: /home/kamperh/scratch/test-clean/wavlm\n"
     ]
    },
    {
     "data": {
      "application/vnd.jupyter.widget-view+json": {
       "model_id": "656d5cbc808f44f2acdf40a5a84a9f74",
       "version_major": 2,
       "version_minor": 0
      },
      "text/plain": [
       "  0%|          | 0/40 [00:00<?, ?it/s]"
      ]
     },
     "metadata": {},
     "output_type": "display_data"
    },
    {
     "name": "stdout",
     "output_type": "stream",
     "text": [
      "No. speakers: 40\n"
     ]
    }
   ],
   "source": [
    "feats_dict = {}\n",
    "print(\"Reading from:\", feats_dir)\n",
    "for speaker_feats_fn in tqdm(sorted(feats_dir.glob(\"*.npy\"))):\n",
    "    speaker = speaker_feats_fn.stem\n",
    "    # feats_dict[speaker] = np.load(speaker_feats_fn)[:n_frames, :]\n",
    "    feats_dict[speaker] = np.load(speaker_feats_fn)\n",
    "    # feats_dict[speaker] = (\n",
    "    #     torch.from_numpy(np.load(speaker_feats_fn))[:n_frames, :]\n",
    "    #     .float()\n",
    "    #     .to(device)\n",
    "    # )\n",
    "print(\"No. speakers:\", len(feats_dict))"
   ]
  },
  {
   "cell_type": "code",
   "execution_count": 7,
   "id": "cb92fc2f-a3c0-4652-bfcf-5fa14f6fce60",
   "metadata": {},
   "outputs": [
    {
     "data": {
      "application/vnd.jupyter.widget-view+json": {
       "model_id": "78f0426a36774c5e81e9e2b0a26ddb47",
       "version_major": 2,
       "version_minor": 0
      },
      "text/plain": [
       "  0%|          | 0/40 [00:00<?, ?it/s]"
      ]
     },
     "metadata": {},
     "output_type": "display_data"
    },
    {
     "data": {
      "application/vnd.jupyter.widget-view+json": {
       "model_id": "",
       "version_major": 2,
       "version_minor": 0
      },
      "text/plain": [
       "  0%|          | 0/40 [00:00<?, ?it/s]"
      ]
     },
     "metadata": {},
     "output_type": "display_data"
    },
    {
     "name": "stderr",
     "output_type": "stream",
     "text": [
      "/tmp/ipykernel_1351800/3531194376.py:18: FutureWarning: `rcond` parameter will change to the default of machine precision times ``max(M, N)`` where M and N are the input matrix dimensions.\n",
      "To use the future default and silence this warning we advise to pass `rcond=None`, to keep using the old, explicitly pass `rcond=-1`.\n",
      "  W, _, _, _ = linalg.lstsq(source_feats.cpu(), linear_target.cpu())\n"
     ]
    },
    {
     "data": {
      "application/vnd.jupyter.widget-view+json": {
       "model_id": "",
       "version_major": 2,
       "version_minor": 0
      },
      "text/plain": [
       "  0%|          | 0/40 [00:00<?, ?it/s]"
      ]
     },
     "metadata": {},
     "output_type": "display_data"
    },
    {
     "data": {
      "application/vnd.jupyter.widget-view+json": {
       "model_id": "",
       "version_major": 2,
       "version_minor": 0
      },
      "text/plain": [
       "  0%|          | 0/40 [00:00<?, ?it/s]"
      ]
     },
     "metadata": {},
     "output_type": "display_data"
    },
    {
     "data": {
      "application/vnd.jupyter.widget-view+json": {
       "model_id": "",
       "version_major": 2,
       "version_minor": 0
      },
      "text/plain": [
       "  0%|          | 0/40 [00:00<?, ?it/s]"
      ]
     },
     "metadata": {},
     "output_type": "display_data"
    },
    {
     "data": {
      "application/vnd.jupyter.widget-view+json": {
       "model_id": "",
       "version_major": 2,
       "version_minor": 0
      },
      "text/plain": [
       "  0%|          | 0/40 [00:00<?, ?it/s]"
      ]
     },
     "metadata": {},
     "output_type": "display_data"
    },
    {
     "data": {
      "application/vnd.jupyter.widget-view+json": {
       "model_id": "",
       "version_major": 2,
       "version_minor": 0
      },
      "text/plain": [
       "  0%|          | 0/40 [00:00<?, ?it/s]"
      ]
     },
     "metadata": {},
     "output_type": "display_data"
    },
    {
     "data": {
      "application/vnd.jupyter.widget-view+json": {
       "model_id": "",
       "version_major": 2,
       "version_minor": 0
      },
      "text/plain": [
       "  0%|          | 0/40 [00:00<?, ?it/s]"
      ]
     },
     "metadata": {},
     "output_type": "display_data"
    },
    {
     "data": {
      "application/vnd.jupyter.widget-view+json": {
       "model_id": "",
       "version_major": 2,
       "version_minor": 0
      },
      "text/plain": [
       "  0%|          | 0/40 [00:00<?, ?it/s]"
      ]
     },
     "metadata": {},
     "output_type": "display_data"
    },
    {
     "data": {
      "application/vnd.jupyter.widget-view+json": {
       "model_id": "",
       "version_major": 2,
       "version_minor": 0
      },
      "text/plain": [
       "  0%|          | 0/40 [00:00<?, ?it/s]"
      ]
     },
     "metadata": {},
     "output_type": "display_data"
    },
    {
     "data": {
      "application/vnd.jupyter.widget-view+json": {
       "model_id": "",
       "version_major": 2,
       "version_minor": 0
      },
      "text/plain": [
       "  0%|          | 0/40 [00:00<?, ?it/s]"
      ]
     },
     "metadata": {},
     "output_type": "display_data"
    },
    {
     "data": {
      "application/vnd.jupyter.widget-view+json": {
       "model_id": "",
       "version_major": 2,
       "version_minor": 0
      },
      "text/plain": [
       "  0%|          | 0/40 [00:00<?, ?it/s]"
      ]
     },
     "metadata": {},
     "output_type": "display_data"
    },
    {
     "data": {
      "application/vnd.jupyter.widget-view+json": {
       "model_id": "",
       "version_major": 2,
       "version_minor": 0
      },
      "text/plain": [
       "  0%|          | 0/40 [00:00<?, ?it/s]"
      ]
     },
     "metadata": {},
     "output_type": "display_data"
    },
    {
     "data": {
      "application/vnd.jupyter.widget-view+json": {
       "model_id": "",
       "version_major": 2,
       "version_minor": 0
      },
      "text/plain": [
       "  0%|          | 0/40 [00:00<?, ?it/s]"
      ]
     },
     "metadata": {},
     "output_type": "display_data"
    },
    {
     "data": {
      "application/vnd.jupyter.widget-view+json": {
       "model_id": "",
       "version_major": 2,
       "version_minor": 0
      },
      "text/plain": [
       "  0%|          | 0/40 [00:00<?, ?it/s]"
      ]
     },
     "metadata": {},
     "output_type": "display_data"
    },
    {
     "data": {
      "application/vnd.jupyter.widget-view+json": {
       "model_id": "",
       "version_major": 2,
       "version_minor": 0
      },
      "text/plain": [
       "  0%|          | 0/40 [00:00<?, ?it/s]"
      ]
     },
     "metadata": {},
     "output_type": "display_data"
    },
    {
     "data": {
      "application/vnd.jupyter.widget-view+json": {
       "model_id": "",
       "version_major": 2,
       "version_minor": 0
      },
      "text/plain": [
       "  0%|          | 0/40 [00:00<?, ?it/s]"
      ]
     },
     "metadata": {},
     "output_type": "display_data"
    },
    {
     "data": {
      "application/vnd.jupyter.widget-view+json": {
       "model_id": "",
       "version_major": 2,
       "version_minor": 0
      },
      "text/plain": [
       "  0%|          | 0/40 [00:00<?, ?it/s]"
      ]
     },
     "metadata": {},
     "output_type": "display_data"
    },
    {
     "data": {
      "application/vnd.jupyter.widget-view+json": {
       "model_id": "",
       "version_major": 2,
       "version_minor": 0
      },
      "text/plain": [
       "  0%|          | 0/40 [00:00<?, ?it/s]"
      ]
     },
     "metadata": {},
     "output_type": "display_data"
    },
    {
     "data": {
      "application/vnd.jupyter.widget-view+json": {
       "model_id": "",
       "version_major": 2,
       "version_minor": 0
      },
      "text/plain": [
       "  0%|          | 0/40 [00:00<?, ?it/s]"
      ]
     },
     "metadata": {},
     "output_type": "display_data"
    },
    {
     "data": {
      "application/vnd.jupyter.widget-view+json": {
       "model_id": "",
       "version_major": 2,
       "version_minor": 0
      },
      "text/plain": [
       "  0%|          | 0/40 [00:00<?, ?it/s]"
      ]
     },
     "metadata": {},
     "output_type": "display_data"
    },
    {
     "data": {
      "application/vnd.jupyter.widget-view+json": {
       "model_id": "",
       "version_major": 2,
       "version_minor": 0
      },
      "text/plain": [
       "  0%|          | 0/40 [00:00<?, ?it/s]"
      ]
     },
     "metadata": {},
     "output_type": "display_data"
    },
    {
     "data": {
      "application/vnd.jupyter.widget-view+json": {
       "model_id": "",
       "version_major": 2,
       "version_minor": 0
      },
      "text/plain": [
       "  0%|          | 0/40 [00:00<?, ?it/s]"
      ]
     },
     "metadata": {},
     "output_type": "display_data"
    },
    {
     "data": {
      "application/vnd.jupyter.widget-view+json": {
       "model_id": "",
       "version_major": 2,
       "version_minor": 0
      },
      "text/plain": [
       "  0%|          | 0/40 [00:00<?, ?it/s]"
      ]
     },
     "metadata": {},
     "output_type": "display_data"
    },
    {
     "data": {
      "application/vnd.jupyter.widget-view+json": {
       "model_id": "",
       "version_major": 2,
       "version_minor": 0
      },
      "text/plain": [
       "  0%|          | 0/40 [00:00<?, ?it/s]"
      ]
     },
     "metadata": {},
     "output_type": "display_data"
    },
    {
     "data": {
      "application/vnd.jupyter.widget-view+json": {
       "model_id": "",
       "version_major": 2,
       "version_minor": 0
      },
      "text/plain": [
       "  0%|          | 0/40 [00:00<?, ?it/s]"
      ]
     },
     "metadata": {},
     "output_type": "display_data"
    },
    {
     "data": {
      "application/vnd.jupyter.widget-view+json": {
       "model_id": "",
       "version_major": 2,
       "version_minor": 0
      },
      "text/plain": [
       "  0%|          | 0/40 [00:00<?, ?it/s]"
      ]
     },
     "metadata": {},
     "output_type": "display_data"
    },
    {
     "data": {
      "application/vnd.jupyter.widget-view+json": {
       "model_id": "",
       "version_major": 2,
       "version_minor": 0
      },
      "text/plain": [
       "  0%|          | 0/40 [00:00<?, ?it/s]"
      ]
     },
     "metadata": {},
     "output_type": "display_data"
    },
    {
     "data": {
      "application/vnd.jupyter.widget-view+json": {
       "model_id": "",
       "version_major": 2,
       "version_minor": 0
      },
      "text/plain": [
       "  0%|          | 0/40 [00:00<?, ?it/s]"
      ]
     },
     "metadata": {},
     "output_type": "display_data"
    },
    {
     "data": {
      "application/vnd.jupyter.widget-view+json": {
       "model_id": "",
       "version_major": 2,
       "version_minor": 0
      },
      "text/plain": [
       "  0%|          | 0/40 [00:00<?, ?it/s]"
      ]
     },
     "metadata": {},
     "output_type": "display_data"
    },
    {
     "data": {
      "application/vnd.jupyter.widget-view+json": {
       "model_id": "",
       "version_major": 2,
       "version_minor": 0
      },
      "text/plain": [
       "  0%|          | 0/40 [00:00<?, ?it/s]"
      ]
     },
     "metadata": {},
     "output_type": "display_data"
    },
    {
     "data": {
      "application/vnd.jupyter.widget-view+json": {
       "model_id": "",
       "version_major": 2,
       "version_minor": 0
      },
      "text/plain": [
       "  0%|          | 0/40 [00:00<?, ?it/s]"
      ]
     },
     "metadata": {},
     "output_type": "display_data"
    },
    {
     "data": {
      "application/vnd.jupyter.widget-view+json": {
       "model_id": "",
       "version_major": 2,
       "version_minor": 0
      },
      "text/plain": [
       "  0%|          | 0/40 [00:00<?, ?it/s]"
      ]
     },
     "metadata": {},
     "output_type": "display_data"
    },
    {
     "data": {
      "application/vnd.jupyter.widget-view+json": {
       "model_id": "",
       "version_major": 2,
       "version_minor": 0
      },
      "text/plain": [
       "  0%|          | 0/40 [00:00<?, ?it/s]"
      ]
     },
     "metadata": {},
     "output_type": "display_data"
    },
    {
     "data": {
      "application/vnd.jupyter.widget-view+json": {
       "model_id": "",
       "version_major": 2,
       "version_minor": 0
      },
      "text/plain": [
       "  0%|          | 0/40 [00:00<?, ?it/s]"
      ]
     },
     "metadata": {},
     "output_type": "display_data"
    },
    {
     "data": {
      "application/vnd.jupyter.widget-view+json": {
       "model_id": "",
       "version_major": 2,
       "version_minor": 0
      },
      "text/plain": [
       "  0%|          | 0/40 [00:00<?, ?it/s]"
      ]
     },
     "metadata": {},
     "output_type": "display_data"
    },
    {
     "data": {
      "application/vnd.jupyter.widget-view+json": {
       "model_id": "",
       "version_major": 2,
       "version_minor": 0
      },
      "text/plain": [
       "  0%|          | 0/40 [00:00<?, ?it/s]"
      ]
     },
     "metadata": {},
     "output_type": "display_data"
    },
    {
     "data": {
      "application/vnd.jupyter.widget-view+json": {
       "model_id": "",
       "version_major": 2,
       "version_minor": 0
      },
      "text/plain": [
       "  0%|          | 0/40 [00:00<?, ?it/s]"
      ]
     },
     "metadata": {},
     "output_type": "display_data"
    },
    {
     "data": {
      "application/vnd.jupyter.widget-view+json": {
       "model_id": "",
       "version_major": 2,
       "version_minor": 0
      },
      "text/plain": [
       "  0%|          | 0/40 [00:00<?, ?it/s]"
      ]
     },
     "metadata": {},
     "output_type": "display_data"
    },
    {
     "data": {
      "application/vnd.jupyter.widget-view+json": {
       "model_id": "",
       "version_major": 2,
       "version_minor": 0
      },
      "text/plain": [
       "  0%|          | 0/40 [00:00<?, ?it/s]"
      ]
     },
     "metadata": {},
     "output_type": "display_data"
    },
    {
     "data": {
      "application/vnd.jupyter.widget-view+json": {
       "model_id": "",
       "version_major": 2,
       "version_minor": 0
      },
      "text/plain": [
       "  0%|          | 0/40 [00:00<?, ?it/s]"
      ]
     },
     "metadata": {},
     "output_type": "display_data"
    }
   ],
   "source": [
    "# Projection matrices\n",
    "projmats = {}\n",
    "for source in tqdm(feats_dict):\n",
    "    for target in tqdm(feats_dict, leave=False):\n",
    "        if source == target:\n",
    "            continue\n",
    "\n",
    "        source_feats = feats_dict[source][:n_frames, :]\n",
    "        # target_feats = feats_dict[target][:n_frames, :]\n",
    "        target_feats = feats_dict[target]\n",
    "        source_feats = torch.from_numpy(source_feats).float().to(device)\n",
    "        target_feats = torch.from_numpy(target_feats).float().to(device)\n",
    "\n",
    "        dists = fast_cosine_dist(source_feats, target_feats, device=device)\n",
    "        best = dists.topk(k=k_top, largest=False, dim=-1)        \n",
    "        linear_target = target_feats[best.indices].mean(dim=1)\n",
    "\n",
    "        W, _, _, _ = linalg.lstsq(source_feats.cpu(), linear_target.cpu())\n",
    "\n",
    "        # linear = celer.Lasso(alpha=0.3, fit_intercept=False).fit(\n",
    "        #     source_feats.squeeze().cpu(), linear_target.cpu()\n",
    "        # )\n",
    "        # W = linear.coef_.T\n",
    "        \n",
    "        # linear = Ridge(alpha=1e4, fit_intercept=False).fit(\n",
    "        #     source_feats.squeeze().cpu(), linear_target.cpu()\n",
    "        # )\n",
    "        # W = linear.coef_.T\n",
    "\n",
    "        # W = torch.from_numpy(W).float().to(device)\n",
    "        projmats[f\"{source}-{target}\"] = W\n",
    "\n",
    "        # assert False"
   ]
  },
  {
   "cell_type": "code",
   "execution_count": 10,
   "id": "a8c6c94a-de80-4096-b118-5f4e74453a2c",
   "metadata": {},
   "outputs": [
    {
     "name": "stdout",
     "output_type": "stream",
     "text": [
      "Writing: /home/kamperh/scratch/linearvc/test-clean/2024-09-21/projmats_4096.npz\n"
     ]
    }
   ],
   "source": [
    "output_dir.mkdir(parents=True, exist_ok=True)\n",
    "npz_fn = output_dir / f\"projmats_{n_frames}.npz\"\n",
    "\n",
    "print(\"Writing:\", npz_fn)\n",
    "np.savez_compressed(npz_fn, **projmats)\n",
    "\n",
    "# print(\"Reading:\", npz_fn)\n",
    "# projmats = np.load(npz_fn)"
   ]
  },
  {
   "cell_type": "code",
   "execution_count": 8,
   "id": "b6f603dd-4b25-48a3-9a09-5f204c4b2abf",
   "metadata": {},
   "outputs": [
    {
     "name": "stdout",
     "output_type": "stream",
     "text": [
      "Writing to: /home/kamperh/scratch/linearvc/test-clean/2024-09-22\n"
     ]
    },
    {
     "data": {
      "application/vnd.jupyter.widget-view+json": {
       "model_id": "8551ed2082b949359fca88544a5f24f1",
       "version_major": 2,
       "version_minor": 0
      },
      "text/plain": [
       "  0%|          | 0/15601 [00:00<?, ?it/s]"
      ]
     },
     "metadata": {},
     "output_type": "display_data"
    },
    {
     "name": "stderr",
     "output_type": "stream",
     "text": [
      "/home/kamperh/miniconda3/envs/myenv/lib/python3.12/site-packages/torch/nn/modules/conv.py:306: UserWarning: Applied workaround for CuDNN issue, install nvrtc.so (Triggered internally at /opt/conda/conda-bld/pytorch_1704987296916/work/aten/src/ATen/native/cudnn/Conv_v8.cpp:80.)\n",
      "  return F.conv1d(input, weight, bias, self.stride,\n"
     ]
    }
   ],
   "source": [
    "output_dir.mkdir(parents=True, exist_ok=True)\n",
    "print(\"Writing to:\", output_dir)\n",
    "with open(eval_csv) as f:\n",
    "    for line in tqdm(f.readlines()):\n",
    "        line = line.strip()\n",
    "        if line[-1] == \"0\":\n",
    "            (source, target, source_key, _, _) = line.split(\",\")\n",
    "            # (source, target, source_key, _, _) = line.split(\",\")  # VCTK\n",
    "\n",
    "            source_key_split = source_key.split(\"-\")\n",
    "            source_wav_fn = (\n",
    "                wav_dir\n",
    "                / source_key_split[0]\n",
    "                / source_key_split[1]\n",
    "                / source_key.split(\"/\")[0]\n",
    "            ).with_suffix(\".flac\")\n",
    "            # # VCTK\n",
    "            # source_wav_fn = (\n",
    "            #     wav_dir / source / Path(source_key).stem\n",
    "            # ).with_suffix(\".wav\")\n",
    "            \n",
    "            # Features\n",
    "            source_wav, _ = torchaudio.load(source_wav_fn)\n",
    "            source_wav = source_wav.to(device)\n",
    "            with torch.inference_mode():\n",
    "                source_feats, _ = wavlm.extract_features(\n",
    "                    source_wav, output_layer=6\n",
    "                )\n",
    "            target_feats = feats_dict[target]\n",
    "            target_feats = torch.from_numpy(target_feats).float().to(device)\n",
    "            \n",
    "            W_source_to_target = projmats[f\"{source}-{target}\"]\n",
    "\n",
    "            # # Matching\n",
    "            # dists = fast_cosine_dist(\n",
    "            #     source_feats.squeeze(), target_feats, device=device\n",
    "            # )            \n",
    "            # best = dists.topk(k=k_top, largest=False, dim=-1)        \n",
    "            # linear_target = target_feats[best.indices].mean(dim=1)\n",
    "            # W_source_to_target, _, _, _ = linalg.lstsq(\n",
    "            #     source_feats.squeeze().cpu(), linear_target.cpu()\n",
    "            # )\n",
    "            # # linear = celer.Lasso(alpha=0.3, fit_intercept=False).fit(\n",
    "            # #     source_feats.squeeze().cpu(), linear_target.cpu()\n",
    "            # # )\n",
    "            # # W_source_to_target = linear.coef_.T\n",
    "                       \n",
    "            W_source_to_target = (\n",
    "                torch.from_numpy(W_source_to_target).float().to(device)\n",
    "            )            \n",
    "            source_to_target_feats = source_feats @ W_source_to_target\n",
    "\n",
    "            with torch.inference_mode():\n",
    "                wav_hat = hifigan(source_to_target_feats).squeeze(0)            \n",
    "\n",
    "            cur_output_dir = Path(output_dir) / source_key.split(\"/\")[0]\n",
    "            cur_output_dir.mkdir(parents=True, exist_ok=True)\n",
    "            output_fn = (cur_output_dir / source_key.split(\"/\")[1]).with_suffix(\n",
    "                \".wav\"\n",
    "            )\n",
    "            torchaudio.save(output_fn, wav_hat.squeeze().cpu()[None], 16000)\n",
    "\n",
    "            # print(output_fn)\n",
    "            # assert False"
   ]
  },
  {
   "cell_type": "code",
   "execution_count": 9,
   "id": "763e8d9c-dc9d-41bf-9d01-db336725d210",
   "metadata": {},
   "outputs": [
    {
     "name": "stdout",
     "output_type": "stream",
     "text": [
      "Run:\n",
      "./speaker_similarity.py --format librispeech data/speaker-sim-test-clean.csv /home/kamperh/scratch/linearvc/test-clean/2024-09-22 /home/kamperh/endgame/datasets/librispeech/LibriSpeech/test-clean\n",
      "./intelligibility.py --format librispeech /home/kamperh/scratch/linearvc/test-clean/2024-09-22 /home/kamperh/endgame/datasets/librispeech/LibriSpeech/test-clean\n"
     ]
    }
   ],
   "source": [
    "class Arguments: pass\n",
    "args = Arguments()\n",
    "args.format = \"librispeech\"\n",
    "args.eval_csv = eval_csv\n",
    "args.converted_dir = output_dir\n",
    "args.groundtruth_dir = wav_dir\n",
    "\n",
    "print(\"Run:\")\n",
    "print(\n",
    "    f\"./speaker_similarity.py --format {args.format}\"\n",
    "    f\" {args.eval_csv} {args.converted_dir} {args.groundtruth_dir}\"\n",
    ")\n",
    "print(\n",
    "    f\"./intelligibility.py --format {args.format} {args.converted_dir}\"\n",
    "    f\" {args.groundtruth_dir}\"\n",
    "    # f\" /home/kamperh/endgame/datasets/VCTK-Corpus/txt/\"\n",
    ")\n",
    "\n",
    "# speaker_similarity(args)"
   ]
  },
  {
   "cell_type": "markdown",
   "id": "c0b1c0ad-7ece-4aa9-af1a-07c2ed735f73",
   "metadata": {},
   "source": [
    "Results:\n",
    "\n",
    "               eer\n",
    "    mean  0.337051\n",
    "    std   0.097225\n",
    "\n",
    "    WER: 4.93% +- 0.06%\n",
    "    CER: 2.55% +- 0.03%"
   ]
  },
  {
   "cell_type": "markdown",
   "id": "e109bf3d-dd80-48ec-80ff-d678c7b3aff3",
   "metadata": {},
   "source": [
    "## kNN-VC"
   ]
  },
  {
   "cell_type": "code",
   "execution_count": 7,
   "id": "d67923bc-53a3-47fe-b59d-dac4d333e25c",
   "metadata": {},
   "outputs": [],
   "source": [
    "exp_tag = \"2024-09-17\"\n",
    "subset = \"test-clean\"\n",
    "eval_csv = Path(f\"data/speaker-sim-{subset}.csv\")\n",
    "# eval_csv = Path(\"data/speakersim_vctk_english.csv\")\n",
    "feats_dir = Path(f\"/home/kamperh/scratch/{subset}/wavlm\")\n",
    "wav_dir = Path(f\"/home/kamperh/endgame/datasets/librispeech/LibriSpeech/{subset}\")\n",
    "output_dir = Path(f\"/home/kamperh/scratch/knnvc/{subset}/{exp_tag}\")\n",
    "\n",
    "n_frames = None  # 15000\n",
    "k_top = 4"
   ]
  },
  {
   "cell_type": "code",
   "execution_count": 16,
   "id": "50753d23-914d-4a75-b630-610dd05aba43",
   "metadata": {},
   "outputs": [
    {
     "name": "stdout",
     "output_type": "stream",
     "text": [
      "Reading from: /home/kamperh/scratch/test-clean/wavlm\n"
     ]
    },
    {
     "data": {
      "application/vnd.jupyter.widget-view+json": {
       "model_id": "99c7ca6125414e6e99397c1b2614bdfe",
       "version_major": 2,
       "version_minor": 0
      },
      "text/plain": [
       "  0%|          | 0/40 [00:00<?, ?it/s]"
      ]
     },
     "metadata": {},
     "output_type": "display_data"
    },
    {
     "name": "stdout",
     "output_type": "stream",
     "text": [
      "No. speakers: 40\n"
     ]
    }
   ],
   "source": [
    "feats_dict = {}\n",
    "print(\"Reading from:\", feats_dir)\n",
    "for speaker_feats_fn in tqdm(sorted(feats_dir.glob(\"*.npy\"))):\n",
    "    speaker = speaker_feats_fn.stem\n",
    "    feats_dict[speaker] = (\n",
    "        torch.from_numpy(np.load(speaker_feats_fn))[:n_frames, :]\n",
    "        .float()\n",
    "        .to(device)\n",
    "    )\n",
    "print(\"No. speakers:\", len(feats_dict))"
   ]
  },
  {
   "cell_type": "code",
   "execution_count": 19,
   "id": "5a51fd7d-f3c9-40db-9339-1492829d2e75",
   "metadata": {},
   "outputs": [
    {
     "name": "stdout",
     "output_type": "stream",
     "text": [
      "Writing to: /home/kamperh/scratch/knnvc/test-clean/2024-09-17\n"
     ]
    },
    {
     "data": {
      "application/vnd.jupyter.widget-view+json": {
       "model_id": "1d0c7afbd0384a338c32594417ec0c2d",
       "version_major": 2,
       "version_minor": 0
      },
      "text/plain": [
       "  0%|          | 0/15601 [00:00<?, ?it/s]"
      ]
     },
     "metadata": {},
     "output_type": "display_data"
    }
   ],
   "source": [
    "output_dir.mkdir(parents=True, exist_ok=True)\n",
    "print(\"Writing to:\", output_dir)\n",
    "with open(eval_csv) as f:\n",
    "    for line in tqdm(f.readlines()):\n",
    "        line = line.strip()\n",
    "        if line[-1] == \"0\":\n",
    "            (source, target, source_key, _, _) = line.split(\",\")\n",
    "            # (source, target, source_key, _, _) = line.split(\",\")  # VCTK\n",
    "\n",
    "            source_key_split = source_key.split(\"-\")\n",
    "            source_wav_fn = (\n",
    "                wav_dir\n",
    "                / source_key_split[0]\n",
    "                / source_key_split[1]\n",
    "                / source_key.split(\"/\")[0]\n",
    "            ).with_suffix(\".flac\")\n",
    "            # # VCTK\n",
    "            # source_wav_fn = (\n",
    "            #     wav_dir / source / Path(source_key).stem\n",
    "            # ).with_suffix(\".wav\")\n",
    "            \n",
    "            # Features\n",
    "            source_wav, _ = torchaudio.load(source_wav_fn)\n",
    "            source_wav = source_wav.to(device)\n",
    "            with torch.inference_mode():\n",
    "                source_feats, _ = wavlm.extract_features(\n",
    "                    source_wav, output_layer=6\n",
    "                )\n",
    "            target_feats = feats_dict[target]\n",
    "\n",
    "            # Matching\n",
    "            dists = fast_cosine_dist(\n",
    "                source_feats.squeeze(), target_feats, device=device\n",
    "            )\n",
    "            best = dists.topk(k=k_top, largest=False, dim=-1)\n",
    "            source_to_target_feats = target_feats[best.indices].mean(dim=1)[None]\n",
    "\n",
    "            with torch.inference_mode():\n",
    "                wav_hat = hifigan(source_to_target_feats).squeeze(0)            \n",
    "\n",
    "            cur_output_dir = Path(output_dir) / source_key.split(\"/\")[0]\n",
    "            cur_output_dir.mkdir(parents=True, exist_ok=True)\n",
    "            output_fn = (cur_output_dir / source_key.split(\"/\")[1]).with_suffix(\n",
    "                \".wav\"\n",
    "            )\n",
    "            torchaudio.save(output_fn, wav_hat.squeeze().cpu()[None], 16000)\n",
    "\n",
    "            # print(output_fn)\n",
    "            # assert False"
   ]
  },
  {
   "cell_type": "code",
   "execution_count": 8,
   "id": "682d693d-982d-4b83-9703-a0701af9acbd",
   "metadata": {},
   "outputs": [
    {
     "name": "stdout",
     "output_type": "stream",
     "text": [
      "Run:\n",
      "./speaker_similarity.py --format librispeech data/speaker-sim-test-clean.csv /home/kamperh/scratch/knnvc/test-clean/2024-09-17 /home/kamperh/endgame/datasets/librispeech/LibriSpeech/test-clean\n",
      "./intelligibility.py --format librispeech /home/kamperh/scratch/knnvc/test-clean/2024-09-17 /home/kamperh/endgame/datasets/librispeech/LibriSpeech/test-clean\n"
     ]
    }
   ],
   "source": [
    "class Arguments: pass\n",
    "args = Arguments()\n",
    "args.format = \"librispeech\"\n",
    "args.eval_csv = eval_csv\n",
    "args.converted_dir = output_dir\n",
    "args.groundtruth_dir = wav_dir\n",
    "\n",
    "print(\"Run:\")\n",
    "print(\n",
    "    f\"./speaker_similarity.py --format {args.format}\"\n",
    "    f\" {args.eval_csv} {args.converted_dir} {args.groundtruth_dir}\"\n",
    ")\n",
    "print(\n",
    "    f\"./intelligibility.py --format {args.format} {args.converted_dir}\"\n",
    "    f\" {args.groundtruth_dir}\"    \n",
    "    # f\" /home/kamperh/endgame/datasets/VCTK-Corpus/txt/\"   \n",
    ")\n",
    "\n",
    "# speaker_similarity(args)"
   ]
  },
  {
   "cell_type": "markdown",
   "id": "57c33619-b9dc-46c7-9722-b414cc1e080f",
   "metadata": {},
   "source": [
    "Results:\n",
    "\n",
    "               eer\n",
    "    mean  0.389744\n",
    "    std   0.094324\n",
    "\n",
    "    WER: 5.57% +- 0.07%\n",
    "    CER: 2.87% +- 0.04%"
   ]
  },
  {
   "cell_type": "code",
   "execution_count": null,
   "id": "ed421a01-8d2a-4fd7-ac46-0b57ff47387a",
   "metadata": {},
   "outputs": [],
   "source": []
  }
 ],
 "metadata": {
  "kernelspec": {
   "display_name": "Python 3 (ipykernel)",
   "language": "python",
   "name": "python3"
  },
  "language_info": {
   "codemirror_mode": {
    "name": "ipython",
    "version": 3
   },
   "file_extension": ".py",
   "mimetype": "text/x-python",
   "name": "python",
   "nbconvert_exporter": "python",
   "pygments_lexer": "ipython3",
   "version": "3.12.1"
  }
 },
 "nbformat": 4,
 "nbformat_minor": 5
}
