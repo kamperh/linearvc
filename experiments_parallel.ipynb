{
 "cells": [
  {
   "cell_type": "markdown",
   "id": "60e65a2a-a969-4aeb-b770-fad8612d62a5",
   "metadata": {},
   "source": [
    "# kNN-VC and LinearVC experiments using parallel data\n",
    "\n",
    "Herman Kamper, 2024"
   ]
  },
  {
   "cell_type": "code",
   "execution_count": 1,
   "id": "83716f97-1129-4d7f-a86a-fcc08faeff74",
   "metadata": {},
   "outputs": [],
   "source": [
    "from datetime import datetime\n",
    "from numpy import linalg\n",
    "from pathlib import Path\n",
    "from tqdm.notebook import tqdm\n",
    "import celer\n",
    "import IPython.display as display\n",
    "import numpy as np\n",
    "import sys\n",
    "import torch\n",
    "import torchaudio\n",
    "\n",
    "from utils import fast_cosine_dist"
   ]
  },
  {
   "cell_type": "code",
   "execution_count": 2,
   "id": "a79fafff-142a-4e68-bc4b-a234a4ce59cf",
   "metadata": {},
   "outputs": [],
   "source": [
    "device = \"cuda\""
   ]
  },
  {
   "cell_type": "markdown",
   "id": "1deca967-1fac-4010-a45c-503306dba959",
   "metadata": {},
   "source": [
    "## Models"
   ]
  },
  {
   "cell_type": "code",
   "execution_count": 3,
   "id": "05a28edd-8c4d-4a36-beb5-57e2fdeadc47",
   "metadata": {},
   "outputs": [
    {
     "name": "stderr",
     "output_type": "stream",
     "text": [
      "Using cache found in /home/kamperh/.cache/torch/hub/bshall_knn-vc_master\n",
      "/home/kamperh/miniconda3/envs/myenv/lib/python3.12/site-packages/torch/nn/utils/weight_norm.py:28: UserWarning: torch.nn.utils.weight_norm is deprecated in favor of torch.nn.utils.parametrizations.weight_norm.\n",
      "  warnings.warn(\"torch.nn.utils.weight_norm is deprecated in favor of torch.nn.utils.parametrizations.weight_norm.\")\n"
     ]
    },
    {
     "name": "stdout",
     "output_type": "stream",
     "text": [
      "WavLM-Large loaded with 315,453,120 parameters.\n"
     ]
    }
   ],
   "source": [
    "wavlm = torch.hub.load(\"bshall/knn-vc\", \"wavlm_large\", trust_repo=True, device=device)"
   ]
  },
  {
   "cell_type": "code",
   "execution_count": 4,
   "id": "7ce42faf-9a78-43f7-b504-1a14f4672fc9",
   "metadata": {},
   "outputs": [
    {
     "name": "stderr",
     "output_type": "stream",
     "text": [
      "Using cache found in /home/kamperh/.cache/torch/hub/bshall_knn-vc_master\n"
     ]
    },
    {
     "name": "stdout",
     "output_type": "stream",
     "text": [
      "Removing weight norm...\n",
      "[HiFiGAN] Generator loaded with 16,523,393 parameters.\n"
     ]
    }
   ],
   "source": [
    "hifigan, _ = torch.hub.load(\"bshall/knn-vc\", \"hifigan_wavlm\", trust_repo=True, device=device, prematched=True)"
   ]
  },
  {
   "cell_type": "markdown",
   "id": "83541847-7f03-4c67-a52d-57ee5a8c8c16",
   "metadata": {},
   "source": [
    "## LinearVC using parallel utterances (single)"
   ]
  },
  {
   "cell_type": "code",
   "execution_count": null,
   "id": "9d506890-527f-4076-953a-299099e4a7ef",
   "metadata": {},
   "outputs": [],
   "source": []
  }
 ],
 "metadata": {
  "kernelspec": {
   "display_name": "Python 3 (ipykernel)",
   "language": "python",
   "name": "python3"
  },
  "language_info": {
   "codemirror_mode": {
    "name": "ipython",
    "version": 3
   },
   "file_extension": ".py",
   "mimetype": "text/x-python",
   "name": "python",
   "nbconvert_exporter": "python",
   "pygments_lexer": "ipython3",
   "version": "3.12.1"
  }
 },
 "nbformat": 4,
 "nbformat_minor": 5
}
